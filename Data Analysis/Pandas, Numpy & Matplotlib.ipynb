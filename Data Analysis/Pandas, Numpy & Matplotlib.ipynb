{
 "cells": [
  {
   "cell_type": "markdown",
   "metadata": {
    "id": "3dOlBucsIn3r"
   },
   "source": [
    "## <font color='#000033'> NumPy </font>\n",
    "\n",
    ">**NumPy** stands for **Numerical Python** or **Numeric Python**. It is the core library for numerical computing in Python. It provides a <ins>high-performance multidimensional array object</ins>, and tools for working with these arrays. It also has strong integration with **Pandas**. \n",
    "\n",
    "[Resource](https://numpy.org/doc/stable/user/quickstart.html) "
   ]
  },
  {
   "cell_type": "markdown",
   "metadata": {},
   "source": [
    "Suppose we want to use climate data like the average temperature (in degrees Fahrenheit), rainfall (in millimeters) & average relative humidity (in percentage) to predict crop yield as a linear equation.\n",
    "\n",
    "                               crop_yield = w1 * temperature + w2 * rainfall + w3 * humidity"
   ]
  },
  {
   "cell_type": "code",
   "execution_count": null,
   "metadata": {
    "id": "VS1TL4IqhzxG"
   },
   "outputs": [],
   "source": [
    "w1, w2, w3 = 0.3, 0.75, 0.6"
   ]
  },
  {
   "cell_type": "markdown",
   "metadata": {
    "id": "nDvwVnEXgCWC"
   },
   "source": [
    "<img src=\"data.png\">\n",
    "<!-- \"https://imgur.com/mXPh8aP\" -->\n"
   ]
  },
  {
   "cell_type": "code",
   "execution_count": null,
   "metadata": {
    "id": "4D2v9s67insy"
   },
   "outputs": [],
   "source": [
    "temp_A, rain_A, humidity_A = 92, 99, 60\n",
    "\n",
    "cropYield_A = w1 * temp_A + w2 * rain_A + w3 * humidity_A\n",
    "\n",
    "cropYield_A"
   ]
  },
  {
   "cell_type": "code",
   "execution_count": null,
   "metadata": {
    "id": "VjvV32Lyjch0"
   },
   "outputs": [],
   "source": [
    "# for multiple regions\n",
    "\n",
    "A = [92, 99, 60]\n",
    "B = [81, 124, 58]\n",
    "C = [73, 85, 77]\n",
    "D = [107, 71, 41]\n",
    "\n",
    "W = [w1, w2, w3]"
   ]
  },
  {
   "cell_type": "code",
   "execution_count": null,
   "metadata": {
    "id": "UGNGgLFsll3S"
   },
   "outputs": [],
   "source": [
    "def crop_yield(region, weights):\n",
    "    result = 0\n",
    "    for x, w in zip(region, weights):\n",
    "        result += x * w\n",
    "    return result\n"
   ]
  },
  {
   "cell_type": "code",
   "execution_count": null,
   "metadata": {
    "colab": {
     "base_uri": "https://localhost:8080/"
    },
    "id": "xXcX6-I8mA2X",
    "outputId": "6662ab61-38f1-4aa7-d803-2b334af5077b"
   },
   "outputs": [],
   "source": [
    "crop_yield(A, W)"
   ]
  },
  {
   "cell_type": "code",
   "execution_count": null,
   "metadata": {
    "colab": {
     "base_uri": "https://localhost:8080/"
    },
    "id": "qL64doPjmBjL",
    "outputId": "a3ba8c16-8af7-4839-f9da-b496c4c16fec"
   },
   "outputs": [],
   "source": [
    "crop_yield(B, W)"
   ]
  },
  {
   "cell_type": "code",
   "execution_count": null,
   "metadata": {
    "colab": {
     "base_uri": "https://localhost:8080/"
    },
    "id": "oTw_rxWMmDad",
    "outputId": "c57c674c-0c43-4036-b507-4fb004c0393f"
   },
   "outputs": [],
   "source": [
    "crop_yield(C, W)"
   ]
  },
  {
   "cell_type": "code",
   "execution_count": null,
   "metadata": {
    "colab": {
     "base_uri": "https://localhost:8080/"
    },
    "id": "TfHuFgEinLp4",
    "outputId": "abd882eb-257b-48f8-e927-8560231d205c"
   },
   "outputs": [],
   "source": [
    "%timeit crop_yield(D, W)"
   ]
  },
  {
   "cell_type": "code",
   "execution_count": null,
   "metadata": {
    "id": "8Vw7Qf4FnXn6"
   },
   "outputs": [],
   "source": [
    "import numpy as np"
   ]
  },
  {
   "cell_type": "code",
   "execution_count": null,
   "metadata": {
    "id": "qaQzpUxqnb_n"
   },
   "outputs": [],
   "source": [
    "# create numpy array\n",
    "arr_A = np.array([92, 99, 60])\n",
    "arr_B = np.array([81, 124, 58])\n",
    "arr_C = np.array([73, 85, 77])\n",
    "arr_D = np.array([107, 71, 41])\n",
    "\n",
    "arr_W = np.array([w1, w2, w3])"
   ]
  },
  {
   "cell_type": "code",
   "execution_count": null,
   "metadata": {},
   "outputs": [],
   "source": [
    "type(arr_A)"
   ]
  },
  {
   "cell_type": "code",
   "execution_count": null,
   "metadata": {},
   "outputs": [],
   "source": [
    "arr_A[0]"
   ]
  },
  {
   "cell_type": "code",
   "execution_count": null,
   "metadata": {
    "colab": {
     "base_uri": "https://localhost:8080/"
    },
    "id": "7lsCC5D6vrpA",
    "outputId": "16151c96-e6a5-4db8-aa07-5a2f52731801"
   },
   "outputs": [],
   "source": [
    "arr_W[:3]"
   ]
  },
  {
   "cell_type": "code",
   "execution_count": null,
   "metadata": {
    "colab": {
     "base_uri": "https://localhost:8080/"
    },
    "id": "wdYesK-9wYIq",
    "outputId": "331312ad-670b-4d46-c987-4fa0571fc8b1"
   },
   "outputs": [],
   "source": [
    "np.dot(arr_A, arr_W)"
   ]
  },
  {
   "cell_type": "code",
   "execution_count": null,
   "metadata": {
    "colab": {
     "base_uri": "https://localhost:8080/"
    },
    "id": "yxg77lv7xkkh",
    "outputId": "1c5f69ad-a3ab-4ddb-d3f7-32ea550e9044"
   },
   "outputs": [],
   "source": [
    "%timeit np.dot(arr_D, arr_W)"
   ]
  },
  {
   "cell_type": "code",
   "execution_count": null,
   "metadata": {
    "id": "u8l_piwVyo6I"
   },
   "outputs": [],
   "source": [
    "help(np.dot)"
   ]
  },
  {
   "cell_type": "code",
   "execution_count": null,
   "metadata": {
    "colab": {
     "base_uri": "https://localhost:8080/"
    },
    "id": "Mq9AseQryqo2",
    "outputId": "b49ba7d9-c082-4294-b952-924309247f61",
    "scrolled": true
   },
   "outputs": [],
   "source": [
    "# element wise multiplication, then sum\n",
    "arr_A * arr_W"
   ]
  },
  {
   "cell_type": "markdown",
   "metadata": {
    "id": "EjnScW_oIn3u"
   },
   "source": [
    "## <font color='#000033'> Pandas </font>\n",
    "\n",
    "> **Pandas** is an open-source Python library that provides high-performance, easy-to-use data structures and tools that makes importing and analyzing data much easier. The data manipulation capabilities of pandas are built on top of the **NumPy** library. \n",
    "\n",
    "Visit the official [pandas](https://pandas.pydata.org/) page to learn more.\n",
    "There are two most frequently used data structures in pandas – **Series** and **DataFrame**. \n",
    "\n",
    "**<ins>Series</ins>**\n",
    "\n",
    "`Series` is a `one-dimensional labeled array` capable of holding any data type (integers, strings, floating point numbers, Python objects, etc.). The axis labels are collectively referred to as the index.\n",
    "\n",
    "**<ins>DataFrames</ins>** \n",
    "\n",
    "Pandas key data structure is called the `DataFrame`. DataFrames is a `2-dimensional labeled data structure` that allow us to store and manipulate tabular data in `rows of observations` and `columns of variables` with a column of potentially same data type."
   ]
  },
  {
   "cell_type": "markdown",
   "metadata": {
    "id": "VnPtZmKRIn3v"
   },
   "source": [
    "##  <font color='#99004C'> 1. How to import pandas and check the version? </font>"
   ]
  },
  {
   "cell_type": "code",
   "execution_count": null,
   "metadata": {
    "colab": {
     "base_uri": "https://localhost:8080/"
    },
    "id": "30ZvvOlUIn3w",
    "outputId": "ceb42337-a7c7-46e4-f241-ea9dca32eb3a"
   },
   "outputs": [],
   "source": [
    "import pandas as pd\n",
    "print(pd.__version__)"
   ]
  },
  {
   "cell_type": "code",
   "execution_count": null,
   "metadata": {
    "id": "sIeOHqO_In3x"
   },
   "outputs": [],
   "source": [
    "pd.set_option('display.max_rows', None)\n",
    "pd.set_option('display.max_columns', None)"
   ]
  },
  {
   "cell_type": "markdown",
   "metadata": {
    "id": "UBa2EV8HIn3x"
   },
   "source": [
    "##  <font color='#99004C'> 2. How to create a series from a list, numpy array and dict? </font>\n",
    ">Create a pandas series from each of the items below: a `list`, `numpy array` and a `dictionary`."
   ]
  },
  {
   "cell_type": "code",
   "execution_count": null,
   "metadata": {
    "id": "X7UcphzfIn3x",
    "scrolled": true
   },
   "outputs": [],
   "source": [
    "mylist = list('abcdefghijklmnopqrstuvwxyz')\n",
    "myarr = np.arange(26)\n",
    "mydict = dict(zip(mylist, myarr))"
   ]
  },
  {
   "cell_type": "code",
   "execution_count": null,
   "metadata": {
    "colab": {
     "base_uri": "https://localhost:8080/"
    },
    "id": "cZHLl3Q_AZYj",
    "outputId": "683af08b-7ddd-433b-ddaf-33887b1f3981"
   },
   "outputs": [],
   "source": [
    "print(mylist, myarr, mydict, sep = '\\n\\n')"
   ]
  },
  {
   "cell_type": "code",
   "execution_count": null,
   "metadata": {
    "id": "hbF1LcQDIn3y",
    "scrolled": true
   },
   "outputs": [],
   "source": [
    "ser_lst = pd.Series(mylist)\n",
    "ser_arr = pd.Series(myarr)\n",
    "ser_dict = pd.Series(mydict)\n"
   ]
  },
  {
   "cell_type": "code",
   "execution_count": null,
   "metadata": {
    "colab": {
     "base_uri": "https://localhost:8080/"
    },
    "id": "9SQ8Zx7-In3y",
    "outputId": "8e8b7adf-e4e8-4759-bd33-3b9c8a60e1b0"
   },
   "outputs": [],
   "source": [
    "print(\"Series from List : \\n\",ser_lst.head(),\n",
    "      \"\\n\\nSeries from Array : \\n\", ser_arr.head(), \n",
    "      \"\\n\\nSeries from Dictionary : \\n\",ser_dict.head())"
   ]
  },
  {
   "cell_type": "markdown",
   "metadata": {
    "id": "Dk7GldFKIn3z"
   },
   "source": [
    "##  <font color='#99004C'> 3. How to convert a series into a dataframe? </font>\n",
    ">Convert the series `ser_dict` into a dataframe. Try to convert its index as another column on the dataframe."
   ]
  },
  {
   "cell_type": "code",
   "execution_count": null,
   "metadata": {
    "colab": {
     "base_uri": "https://localhost:8080/",
     "height": 200
    },
    "id": "AkfFk2tPIn3z",
    "outputId": "882924fe-a2db-45e5-a955-feefa66da6ba"
   },
   "outputs": [],
   "source": [
    "# Solution1 \n",
    "df = ser_dict.to_frame()\n",
    "df.head()"
   ]
  },
  {
   "cell_type": "code",
   "execution_count": null,
   "metadata": {
    "colab": {
     "base_uri": "https://localhost:8080/",
     "height": 200
    },
    "id": "c1g--66hIn3z",
    "outputId": "fe778d72-fa2a-4a10-cbe7-6ce60aaba064"
   },
   "outputs": [],
   "source": [
    "# Solution 2\n",
    "df = pd.DataFrame(ser_dict)\n",
    "df.head()"
   ]
  },
  {
   "cell_type": "code",
   "execution_count": null,
   "metadata": {
    "colab": {
     "base_uri": "https://localhost:8080/",
     "height": 200
    },
    "id": "tqSCsDNgIn30",
    "outputId": "fa74f564-51cf-4732-b323-fcb04a161dd9",
    "scrolled": true
   },
   "outputs": [],
   "source": [
    "df_new = df.reset_index()\n",
    "df_new.head()"
   ]
  },
  {
   "cell_type": "markdown",
   "metadata": {
    "id": "qACj0MZMIn30"
   },
   "source": [
    "##  <font color='#99004C'> 4. How to combine many series to form a dataframe? </font>\n",
    ">Combine `ser_lst` and `ser_arr` to form a dataframe."
   ]
  },
  {
   "cell_type": "code",
   "execution_count": null,
   "metadata": {
    "id": "CIwelBvzIn30"
   },
   "outputs": [],
   "source": [
    "# Solution 1\n",
    "df = pd.concat([ser_lst, ser_arr], axis=1)\n",
    "df.head()\n"
   ]
  },
  {
   "cell_type": "code",
   "execution_count": null,
   "metadata": {
    "id": "oMQ9I3E6B6Ta"
   },
   "outputs": [],
   "source": [
    "# df.columns\n",
    "# df.columns = ['col1', 'col2']\n",
    "# df.head()"
   ]
  },
  {
   "cell_type": "code",
   "execution_count": null,
   "metadata": {
    "id": "eRtD0qcfIn31"
   },
   "outputs": [],
   "source": [
    "# Solution 2\n",
    "df = pd.DataFrame({'col1': ser_lst, 'col2': ser_arr})\n",
    "df.head()"
   ]
  },
  {
   "cell_type": "markdown",
   "metadata": {
    "id": "Wn1E0inxIn31"
   },
   "source": [
    "##  <font color='#99004C'> 5. How to assign name to the series index? </font>\n",
    ">Give a name to the series `ser_lst` calling it `alphabets`."
   ]
  },
  {
   "cell_type": "code",
   "execution_count": null,
   "metadata": {
    "colab": {
     "base_uri": "https://localhost:8080/"
    },
    "id": "W9IgSzUNIn31",
    "outputId": "0efe67a3-398a-4987-d393-a7c531543144"
   },
   "outputs": [],
   "source": [
    "ser_lst.name = \"alphabets\"\n",
    "ser_lst.head()"
   ]
  },
  {
   "cell_type": "markdown",
   "metadata": {
    "id": "hIsui_sMIn31"
   },
   "source": [
    "##  <font color='#99004C'>6. How to get the items of series A not present in series B? </font>\n",
    ">From `ser1` remove items present in `ser2`."
   ]
  },
  {
   "cell_type": "code",
   "execution_count": null,
   "metadata": {
    "id": "mNeqFxvXIn32"
   },
   "outputs": [],
   "source": [
    "ser1 = pd.Series([1, 2, 3, 4, 5, 9, 1])\n",
    "ser2 = pd.Series([4, 5, 6, 7, 8])"
   ]
  },
  {
   "cell_type": "code",
   "execution_count": null,
   "metadata": {
    "colab": {
     "base_uri": "https://localhost:8080/"
    },
    "id": "nchwk48zIn32",
    "outputId": "1b02aaca-2a54-4e83-e065-6bb50761846d"
   },
   "outputs": [],
   "source": [
    "ser1[~ser1.isin(ser2)]"
   ]
  },
  {
   "cell_type": "markdown",
   "metadata": {
    "id": "AJzInYG_In32"
   },
   "source": [
    "##  <font color='#99004C'> 7. How to get the items not common to both series A and series B? </font>\n",
    ">Get all items of `ser1` and `ser2` that are either in one and not common to both."
   ]
  },
  {
   "cell_type": "code",
   "execution_count": null,
   "metadata": {
    "colab": {
     "base_uri": "https://localhost:8080/"
    },
    "id": "OE-RSsF-In33",
    "outputId": "5900b246-c10a-4122-dfdc-6f3aa9a424c4"
   },
   "outputs": [],
   "source": [
    "#Solution 1\n",
    "ser_u = pd.Series(np.union1d(ser1, ser2))  # union\n",
    "ser_i = pd.Series(np.intersect1d(ser1, ser2))  # intersection\n",
    "ser_u[~ser_u.isin(ser_i)]"
   ]
  },
  {
   "cell_type": "code",
   "execution_count": null,
   "metadata": {
    "colab": {
     "base_uri": "https://localhost:8080/"
    },
    "id": "sjJU0ye7In33",
    "outputId": "a165f304-5bde-4905-86c7-b917f998c2e7"
   },
   "outputs": [],
   "source": [
    "#Solution 2\n",
    "ser1[~ser1.isin(ser2)].append(ser2[~ser2.isin(ser1)])"
   ]
  },
  {
   "cell_type": "markdown",
   "metadata": {
    "id": "SFj_wFgUIn33"
   },
   "source": [
    "##  <font color='#99004C'> 8. How to get the minimum, 25th percentile, median, 75th, and max of a numeric series? </font>\n",
    "> Compute the `minimum`, `25th percentile`, `median`, `75th`, and `maximum` of `ser`."
   ]
  },
  {
   "cell_type": "code",
   "execution_count": null,
   "metadata": {
    "colab": {
     "base_uri": "https://localhost:8080/"
    },
    "id": "QwnOPV1vIn33",
    "outputId": "f80768d5-1531-42e3-a9eb-ac9c2d4fd0e3",
    "scrolled": true
   },
   "outputs": [],
   "source": [
    "ser = pd.Series(np.random.normal(10, 5, 25))\n",
    "ser.head()"
   ]
  },
  {
   "cell_type": "code",
   "execution_count": null,
   "metadata": {
    "colab": {
     "base_uri": "https://localhost:8080/"
    },
    "id": "u9A6zfz4In34",
    "outputId": "8fc08638-e08f-47c4-b452-01057c022cf3"
   },
   "outputs": [],
   "source": [
    "# Solution 1\n",
    "np.percentile(ser, q=[0, 25, 50, 75, 100])"
   ]
  },
  {
   "cell_type": "code",
   "execution_count": null,
   "metadata": {
    "colab": {
     "base_uri": "https://localhost:8080/"
    },
    "id": "rIVnXTusIn34",
    "outputId": "335dbf72-52a9-4500-d894-cfe2c5228dca"
   },
   "outputs": [],
   "source": [
    "#Solution 2\n",
    "ser.quantile([0, 0.25, 0.5, 0.75, 1])"
   ]
  },
  {
   "cell_type": "markdown",
   "metadata": {
    "id": "XrHbAR-tIn34"
   },
   "source": [
    "##  <font color='#99004C'> 9. How to bin a numeric series to groups of equal size? </font>\n",
    ">Bin the series `sales` into 4 equal bins, i.e. `quartiles` and replace the values with the bin name."
   ]
  },
  {
   "cell_type": "code",
   "execution_count": null,
   "metadata": {
    "colab": {
     "base_uri": "https://localhost:8080/"
    },
    "id": "GxkmK_d3In35",
    "outputId": "0f1b5880-1f5c-4a26-93ba-dac0935af31c",
    "scrolled": true
   },
   "outputs": [],
   "source": [
    "sales = pd.Series(np.random.uniform(300, 5000, 50)).map(int)\n",
    "sales.head()"
   ]
  },
  {
   "cell_type": "code",
   "execution_count": null,
   "metadata": {
    "colab": {
     "base_uri": "https://localhost:8080/"
    },
    "id": "7hdvh7PdIn35",
    "outputId": "874f897a-0e55-4df5-ba0a-0cf4c1ff9cbf",
    "scrolled": true
   },
   "outputs": [],
   "source": [
    "# Solution 1\n",
    "pd.qcut(sales, q=4, labels = [\"very low\", \"low\", \"medium\", \"high\"])"
   ]
  },
  {
   "cell_type": "code",
   "execution_count": null,
   "metadata": {
    "colab": {
     "base_uri": "https://localhost:8080/"
    },
    "id": "rnA9xGM9In35",
    "outputId": "986df50c-e579-4831-a837-3e33c675e79c"
   },
   "outputs": [],
   "source": [
    "# Solution 2\n",
    "pd.qcut(sales, q=[0, 0.25, 0.5, 0.75, 1], labels = [\"very low\", \"low\", \"medium\", \"high\"])"
   ]
  },
  {
   "cell_type": "code",
   "execution_count": null,
   "metadata": {
    "colab": {
     "base_uri": "https://localhost:8080/",
     "height": 1000
    },
    "id": "fKamoLyHIn36",
    "outputId": "77d783ee-92b4-4fe1-dd42-6b57059b4e6b"
   },
   "outputs": [],
   "source": [
    "pd.DataFrame({\"sales\": sales, \"sales_bin\":pd.qcut(sales, q=4, labels = [\"very low\", \"low\", \"medium\", \"high\"])})"
   ]
  },
  {
   "cell_type": "markdown",
   "metadata": {
    "id": "1SD_GQGMIn36"
   },
   "source": [
    "##  <font color='#99004C'> 10. How to get frequency counts of unique items of a series? </font>\n",
    ">Calculate the frequency counts of each unique value `s`. From `s`, keep the `top 2 most frequent` items as it is and replace everything else as `Other`.\n"
   ]
  },
  {
   "cell_type": "code",
   "execution_count": null,
   "metadata": {
    "colab": {
     "base_uri": "https://localhost:8080/"
    },
    "id": "1_s9P1yRIn36",
    "outputId": "da1a7785-a699-4849-ac0c-a47819f005d4"
   },
   "outputs": [],
   "source": [
    "s = pd.Series(np.random.randint(1, 5, [12]))\n",
    "s"
   ]
  },
  {
   "cell_type": "code",
   "execution_count": null,
   "metadata": {
    "colab": {
     "base_uri": "https://localhost:8080/"
    },
    "id": "1cAQjsQQIn37",
    "outputId": "a96aa805-8ae3-4c85-d11c-8f949564510c"
   },
   "outputs": [],
   "source": [
    "# Frequency count\n",
    "s.value_counts()"
   ]
  },
  {
   "cell_type": "code",
   "execution_count": null,
   "metadata": {
    "id": "XWsszBM8In37",
    "scrolled": true
   },
   "outputs": [],
   "source": [
    "# Except the top 2 most frequent items, replace rest by 'Others'.\n",
    "print(\"Top 2 Freq: \",s.value_counts().index[:2].tolist())"
   ]
  },
  {
   "cell_type": "code",
   "execution_count": null,
   "metadata": {
    "colab": {
     "base_uri": "https://localhost:8080/"
    },
    "id": "CBjSXQ9VIn37",
    "outputId": "a04c67fa-ae06-436d-ee85-657e8f24fe72"
   },
   "outputs": [],
   "source": [
    "# Rename all except top2 most frequent as \"Others\"\n",
    "# Solution 1\n",
    "s.where(s.isin(s.value_counts().index[:2]), \"Others\")"
   ]
  },
  {
   "cell_type": "code",
   "execution_count": null,
   "metadata": {
    "colab": {
     "base_uri": "https://localhost:8080/"
    },
    "id": "fkbgI_5SIn37",
    "outputId": "1fc19c74-9a65-4849-843e-25fad2588941"
   },
   "outputs": [],
   "source": [
    "# Solution 2\n",
    "s[s.isin(s.value_counts().index[2:])] = \"Others\"\n",
    "# s[~s.isin(s.value_counts().index[:2])] = \"Others\"\n",
    "s"
   ]
  },
  {
   "cell_type": "markdown",
   "metadata": {
    "id": "0MWnuU9RIn38"
   },
   "source": [
    "##  <font color='#99004C'> 11. How to convert a numpy array to a dataframe of given shape? </font>\n",
    "> Reshape the series `arr` into a dataframe with 7 rows and 5 columns."
   ]
  },
  {
   "cell_type": "code",
   "execution_count": null,
   "metadata": {
    "colab": {
     "base_uri": "https://localhost:8080/"
    },
    "id": "5F2xBQnBIn38",
    "outputId": "c6f2b0e4-7cd0-46d5-d943-da23ce3a72e0"
   },
   "outputs": [],
   "source": [
    "arr = np.random.randint(1, 10, 35)\n",
    "arr.shape"
   ]
  },
  {
   "cell_type": "code",
   "execution_count": null,
   "metadata": {
    "colab": {
     "base_uri": "https://localhost:8080/"
    },
    "id": "v2J1uOYhIn38",
    "outputId": "52e4914f-016d-45b1-cd16-f0ce6b22fd15"
   },
   "outputs": [],
   "source": [
    "arr"
   ]
  },
  {
   "cell_type": "code",
   "execution_count": null,
   "metadata": {
    "colab": {
     "base_uri": "https://localhost:8080/",
     "height": 261
    },
    "id": "Gy1V6snbIn39",
    "outputId": "c5167b73-4cac-452c-c6a5-3adb5e08f684"
   },
   "outputs": [],
   "source": [
    "df = pd.DataFrame(arr.reshape(7,5))\n",
    "df"
   ]
  },
  {
   "cell_type": "markdown",
   "metadata": {
    "id": "BwiKY5PgIn39"
   },
   "source": [
    "##  <font color='#99004C'> 12. How to extract items at given positions from a series? </font>\n",
    ">From `ser`, extract the items at positions in list `pos`."
   ]
  },
  {
   "cell_type": "code",
   "execution_count": null,
   "metadata": {
    "id": "D3xKx0gkIn39"
   },
   "outputs": [],
   "source": [
    "ser = pd.Series(list('abcdefghijklmnopqrstuvwxyz'))\n",
    "pos = [0, 4, 8, 14, 20]"
   ]
  },
  {
   "cell_type": "code",
   "execution_count": null,
   "metadata": {
    "colab": {
     "base_uri": "https://localhost:8080/"
    },
    "id": "4etNGuaAIn39",
    "outputId": "f344aa30-775b-4cca-8f29-38c8feffa955"
   },
   "outputs": [],
   "source": [
    "# Solution 1, by index\n",
    "ser.iloc[pos]"
   ]
  },
  {
   "cell_type": "code",
   "execution_count": null,
   "metadata": {
    "colab": {
     "base_uri": "https://localhost:8080/"
    },
    "id": "76M52-yaIn39",
    "outputId": "8c442b80-4738-41da-a9f2-72c76a7dd4d2"
   },
   "outputs": [],
   "source": [
    "# Solution 2\n",
    "ser.take(pos)"
   ]
  },
  {
   "cell_type": "code",
   "execution_count": null,
   "metadata": {
    "colab": {
     "base_uri": "https://localhost:8080/"
    },
    "id": "V_puVzxvIn3-",
    "outputId": "3bb0171d-cebe-463d-9764-42f8eaf0c28e"
   },
   "outputs": [],
   "source": [
    "# Solution 3\n",
    "ser[ser.index.isin(pos)]"
   ]
  },
  {
   "cell_type": "code",
   "execution_count": null,
   "metadata": {
    "colab": {
     "base_uri": "https://localhost:8080/"
    },
    "id": "-WwN9gc4H29K",
    "outputId": "744fac56-dc42-4292-aea3-c6007a0ef9fa"
   },
   "outputs": [],
   "source": [
    "ser.loc[[1,2]]"
   ]
  },
  {
   "cell_type": "code",
   "execution_count": null,
   "metadata": {
    "colab": {
     "base_uri": "https://localhost:8080/"
    },
    "id": "2AA8BN9ZIn3-",
    "outputId": "3e4a9e23-2425-458e-bcba-cab0836bc779"
   },
   "outputs": [],
   "source": [
    "# Solution \n",
    "# ser_dict.head()\n",
    "pos = [\"a\", \"e\", \"i\", \"o\", \"u\"]\n",
    "ser_dict.loc[pos] # by label"
   ]
  },
  {
   "cell_type": "code",
   "execution_count": null,
   "metadata": {
    "colab": {
     "base_uri": "https://localhost:8080/"
    },
    "id": "r6ps5VPOIn3-",
    "outputId": "5db4cc55-9969-4159-fe66-6ae413c48e80"
   },
   "outputs": [],
   "source": [
    "# Solution 4\n",
    "ser_dict[ser_dict.index.isin(pos)]"
   ]
  },
  {
   "cell_type": "markdown",
   "metadata": {
    "id": "6IS_hym6In3-"
   },
   "source": [
    "##  <font color='#99004C'> 13. How to stack two series vertically and horizontally ? </font>\n",
    ">Stack ser1 and ser2 vertically and horizontally (to form a dataframe)."
   ]
  },
  {
   "cell_type": "code",
   "execution_count": null,
   "metadata": {
    "colab": {
     "base_uri": "https://localhost:8080/"
    },
    "id": "7MOCtdTCIn3_",
    "outputId": "81e1646b-c312-4a19-fef9-36f4790b1dbf"
   },
   "outputs": [],
   "source": [
    "print(ser1)\n",
    "print(ser2)"
   ]
  },
  {
   "cell_type": "code",
   "execution_count": null,
   "metadata": {
    "id": "-BNHG-yBIn3_"
   },
   "outputs": [],
   "source": [
    "# Solution 1\n",
    "df_vertical = pd.concat([ser1, ser2]) # default axis = 0\n",
    "df_horizontal = pd.concat([ser1, ser2], axis = 1)"
   ]
  },
  {
   "cell_type": "code",
   "execution_count": null,
   "metadata": {
    "id": "5eawpZ4QIn3_"
   },
   "outputs": [],
   "source": [
    "# Solution 2, horizontal\n",
    "df_h = pd.DataFrame(ser1.append(ser2))"
   ]
  },
  {
   "cell_type": "code",
   "execution_count": null,
   "metadata": {
    "colab": {
     "base_uri": "https://localhost:8080/",
     "height": 231
    },
    "id": "g-UYy-D_In3_",
    "outputId": "5f659960-e4d1-4560-c2c0-ef8d70a73410"
   },
   "outputs": [],
   "source": [
    "# From numpy arrays of equal length\n",
    "arr1 = np.array([1, 2, 3])\n",
    "arr2 = np.array([2, 3, 4])\n",
    "\n",
    "df_vv = pd.DataFrame(np.vstack((arr1, arr2)))  # np.stack((arr1, arr2))\n",
    "df_hh = pd.DataFrame(np.stack((arr1, arr2), axis = 1))\n",
    "\n",
    "display(df_vv)\n",
    "display(df_hh)"
   ]
  },
  {
   "cell_type": "markdown",
   "metadata": {
    "id": "TNvySVeqIn4A"
   },
   "source": [
    "##  <font color='#99004C'> 14.How to get the positions of items of series A in another series B? </font>\n",
    ">Get the positions of items of `s2` in `s1` as a list."
   ]
  },
  {
   "cell_type": "code",
   "execution_count": null,
   "metadata": {
    "id": "GYiuSftfIn4A"
   },
   "outputs": [],
   "source": [
    "s1 = pd.Series([10, 9, 6, 5, 3, 1, 12, 8, 13])\n",
    "s2 = pd.Series([1, 3, 10, 13])"
   ]
  },
  {
   "cell_type": "code",
   "execution_count": null,
   "metadata": {
    "colab": {
     "base_uri": "https://localhost:8080/"
    },
    "id": "H_7OOTv9In4A",
    "outputId": "45697a24-d3dc-49d7-a5fe-a81a095384f7"
   },
   "outputs": [],
   "source": [
    "# not ordered correctly\n",
    "s1[s1.isin(s2)].index.tolist()"
   ]
  },
  {
   "cell_type": "code",
   "execution_count": null,
   "metadata": {
    "colab": {
     "base_uri": "https://localhost:8080/"
    },
    "id": "0qCKuIIZIn4A",
    "outputId": "35e23ff4-9859-4a0a-df0d-85b9ee3bd789"
   },
   "outputs": [],
   "source": [
    "# Solution 1\n",
    "[s1[s1 == i].index[0] for i in s2]"
   ]
  },
  {
   "cell_type": "code",
   "execution_count": null,
   "metadata": {
    "colab": {
     "base_uri": "https://localhost:8080/"
    },
    "id": "qt6QVKhuIn4A",
    "outputId": "795b124f-f295-4435-d9da-baad8cc0f08e"
   },
   "outputs": [],
   "source": [
    "# Solution 2\n",
    "[pd.Index(s1).get_loc(i) for i in s2]"
   ]
  },
  {
   "cell_type": "code",
   "execution_count": null,
   "metadata": {
    "colab": {
     "base_uri": "https://localhost:8080/"
    },
    "id": "-bYwuEdCIn4B",
    "outputId": "bb7c89be-6a48-43c0-f77a-d992327efdad"
   },
   "outputs": [],
   "source": [
    "# Solution 3\n",
    "[np.where(i == s1)[0].tolist()[0] for i in s2]"
   ]
  },
  {
   "cell_type": "code",
   "execution_count": null,
   "metadata": {
    "colab": {
     "base_uri": "https://localhost:8080/"
    },
    "id": "9LxObZL_In4B",
    "outputId": "9b880921-8847-4103-9bb5-8a51ce879e7a"
   },
   "outputs": [],
   "source": [
    "#Solution 4\n",
    "[s1.where(i == s1).first_valid_index() for i in s2]"
   ]
  },
  {
   "cell_type": "code",
   "execution_count": null,
   "metadata": {
    "id": "r42pVYeGIn4B"
   },
   "outputs": [],
   "source": [
    "#Solution 5\n",
    "[list(s1).index(i) for i in s2]"
   ]
  },
  {
   "cell_type": "markdown",
   "metadata": {
    "id": "C-xQg7lnIn4B"
   },
   "source": [
    "##  <font color='#99004C'> 15. How to compute differences between consequtive numbers of a series? </font>\n",
    ">Find the difference of differences between the consequtive numbers of `s`."
   ]
  },
  {
   "cell_type": "code",
   "execution_count": null,
   "metadata": {
    "id": "AYNJPQO4In4C"
   },
   "outputs": [],
   "source": [
    "s = pd.Series(np.random.randint(1,50, [10]))"
   ]
  },
  {
   "cell_type": "code",
   "execution_count": null,
   "metadata": {
    "colab": {
     "base_uri": "https://localhost:8080/",
     "height": 352
    },
    "id": "TnnGzsjPIn4C",
    "outputId": "b618dd9d-47bf-4aee-a607-42be518ce814"
   },
   "outputs": [],
   "source": [
    "# Solution 1\n",
    "pd.DataFrame({\"s\": s, \"difference\" :s.diff()})"
   ]
  },
  {
   "cell_type": "code",
   "execution_count": null,
   "metadata": {
    "colab": {
     "base_uri": "https://localhost:8080/",
     "height": 352
    },
    "id": "kEZ5mQw0In4C",
    "outputId": "7aa7bd06-0c23-4e24-b624-45b1204513f1"
   },
   "outputs": [],
   "source": [
    "# Solution 2, using shift()\n",
    "pd.DataFrame({\"s\": s, \"shifted_s\" :s.shift(-1), \"difference\" : s- s.shift()})"
   ]
  },
  {
   "cell_type": "markdown",
   "metadata": {
    "id": "lOXGDl2MIn4C"
   },
   "source": [
    "##  <font color='#99004C'> 16. How to convert a series of date-strings to a timeseries? </font>\n",
    "> Get the day of month, week number, day of year and day of week from `t`. Convert the dates to a standard format `DD-MMM-YYYY`. Find link to date formats [here](https://www.w3schools.com/python/python_datetime.asp)."
   ]
  },
  {
   "cell_type": "code",
   "execution_count": null,
   "metadata": {
    "colab": {
     "base_uri": "https://localhost:8080/"
    },
    "id": "bFXf4J6SIn4D",
    "outputId": "845992ed-ef9e-4a1f-b0a4-02e64d277488"
   },
   "outputs": [],
   "source": [
    "t = pd.Series(['01 Jan 2010', '02-02-2011', '20120303', '2013/04/04', '2014-05-05', '2015-06-06T12:20'])\n",
    "t.head()"
   ]
  },
  {
   "cell_type": "code",
   "execution_count": null,
   "metadata": {
    "id": "ZutEybI9In4D"
   },
   "outputs": [],
   "source": [
    "time = pd.to_datetime(t)"
   ]
  },
  {
   "cell_type": "code",
   "execution_count": null,
   "metadata": {
    "colab": {
     "base_uri": "https://localhost:8080/"
    },
    "id": "rEr1gU8vIn4D",
    "outputId": "6cbf9b49-1ac3-48fa-b115-491fb87f749f"
   },
   "outputs": [],
   "source": [
    "# day of month\n",
    "print(\"Date: \", time.dt.day.tolist())\n",
    "\n",
    "# week number\n",
    "print(\"Week number: \", time.dt.weekofyear.tolist())\n",
    "\n",
    "# day of year\n",
    "print(\"Day number of year: \", time.dt.dayofyear.tolist())\n",
    "\n",
    "# day of week\n",
    "print(\"Day of week: \", time.dt.strftime(\"%A\").tolist())"
   ]
  },
  {
   "cell_type": "code",
   "execution_count": null,
   "metadata": {
    "id": "dpekchQ9In4D"
   },
   "outputs": [],
   "source": []
  },
  {
   "cell_type": "markdown",
   "metadata": {
    "id": "EHIwxhevIn4D"
   },
   "source": [
    "##  <font color='#99004C'> 17. How to fill an intermittent time series so all missing dates show up with values of previous non-missing date? </font>\n",
    ">`t` has missing dates and values. Make all `missing dates appear and fill up with value from previous(next) date`."
   ]
  },
  {
   "cell_type": "code",
   "execution_count": null,
   "metadata": {
    "colab": {
     "base_uri": "https://localhost:8080/"
    },
    "id": "6baf81VzIn4D",
    "outputId": "0f38f3b7-d32f-4837-be67-8bf844713b25"
   },
   "outputs": [],
   "source": [
    "t = pd.Series([1,10,3,np.nan], index=pd.to_datetime(['2000-01-01', '2000-01-03', '2000-01-06', '2000-01-08']))\n",
    "t"
   ]
  },
  {
   "cell_type": "code",
   "execution_count": null,
   "metadata": {
    "colab": {
     "base_uri": "https://localhost:8080/"
    },
    "id": "VSGgbEz7In4E",
    "outputId": "8e87c5f0-7e03-454d-ebcb-e74d17d96568"
   },
   "outputs": [],
   "source": [
    "# Fill with previous value, forward fill\n",
    "t.resample('D').ffill()"
   ]
  },
  {
   "cell_type": "code",
   "execution_count": null,
   "metadata": {
    "colab": {
     "base_uri": "https://localhost:8080/"
    },
    "id": "fE2wcXEPIn4E",
    "outputId": "8b0ab7bd-f4dc-421f-c7ec-e34158bcacfe"
   },
   "outputs": [],
   "source": [
    "# Fill with next value, backward fill\n",
    "t.resample('D').bfill()"
   ]
  },
  {
   "cell_type": "markdown",
   "metadata": {
    "id": "WTu9FLONIn4E"
   },
   "source": [
    "##  <font color='#99004C'> 18. How to get the mean of a column grouped by another column? </font>\n",
    ">Compute the mean of `weights` grouped by `fruits` in a dataframe."
   ]
  },
  {
   "cell_type": "code",
   "execution_count": null,
   "metadata": {
    "colab": {
     "base_uri": "https://localhost:8080/",
     "height": 200
    },
    "id": "t1UTWzuZIn4F",
    "outputId": "a68bd6e5-885b-47f5-cd9d-6262dfdb4496"
   },
   "outputs": [],
   "source": [
    "fruits = pd.Series(np.random.choice(['apple', 'banana', 'carrot'], 10))\n",
    "weights = pd.Series(np.linspace(1, 10, 10))\n",
    "\n",
    "df = pd.DataFrame({\"fruits\": fruits, \"weights\": weights})\n",
    "df.head()"
   ]
  },
  {
   "cell_type": "code",
   "execution_count": null,
   "metadata": {
    "colab": {
     "base_uri": "https://localhost:8080/",
     "height": 170
    },
    "id": "NPiNvEHCIn4F",
    "outputId": "cb773c0c-0b95-42df-f102-f6eaf118c274"
   },
   "outputs": [],
   "source": [
    "df.groupby(\"fruits\").mean()"
   ]
  },
  {
   "cell_type": "markdown",
   "metadata": {
    "id": "zev_U8t1In4F"
   },
   "source": [
    "##  <font color='#99004C'> 19. How to import data to create a dataframe? </font>\n",
    "> [read_csv](https://pandas.pydata.org/pandas-docs/stable/reference/api/pandas.read_csv.html)  \n",
    "[read_excel](https://pandas.pydata.org/pandas-docs/stable/reference/api/pandas.read_excel.html)"
   ]
  },
  {
   "cell_type": "code",
   "execution_count": null,
   "metadata": {
    "id": "MjjehiIxIn4F"
   },
   "outputs": [],
   "source": [
    "# Read a CSV file as pandas dataframe\n",
    "\n",
    "df1 = pd.read_csv(\"https://raw.githubusercontent.com/selva86/datasets/master/BostonHousing.csv\")"
   ]
  },
  {
   "cell_type": "code",
   "execution_count": null,
   "metadata": {
    "colab": {
     "base_uri": "https://localhost:8080/"
    },
    "id": "8V9-XKamIn4F",
    "outputId": "2861d7af-a5d9-4da1-a7d8-2198e42a0304"
   },
   "outputs": [],
   "source": [
    "# check dimension of dataframe\n",
    "df1.shape"
   ]
  },
  {
   "cell_type": "code",
   "execution_count": null,
   "metadata": {
    "id": "uiU0kt9-In4G"
   },
   "outputs": [],
   "source": [
    "d1 = pd.read_csv('C:\\\\Users\\\\Swarnali\\\\Assignments\\\\Data Analysis\\\\BostonHousing.txt', sep = '\\t') #tab separated\n",
    "d2 = pd.read_csv(r'C:\\Users\\Swarnali\\Assignments\\Data Analysis\\BostonHousing_idx.csv' , index_col= 'my_index') #with my_index\n",
    "\n",
    "display(d1.head()), display(d2.head())"
   ]
  },
  {
   "cell_type": "code",
   "execution_count": null,
   "metadata": {
    "id": "O7M_ZDNiIn4G"
   },
   "outputs": [],
   "source": [
    "# Read a XLSX file as pandas dataframe\n",
    "# download data from https://github.com/owid/covid-19-data/blob/master/public/data/owid-covid-data.xlsx\n",
    "df2 = pd.read_excel(r\"https://github.com/owid/covid-19-data/blob/master/public/data/owid-covid-data.xlsx\")"
   ]
  },
  {
   "cell_type": "code",
   "execution_count": null,
   "metadata": {
    "colab": {
     "base_uri": "https://localhost:8080/",
     "height": 200
    },
    "id": "9tbZcehfIn4G",
    "outputId": "2c6ee561-0e0e-4754-e218-1b737f8e377b",
    "scrolled": true
   },
   "outputs": [],
   "source": [
    "df1.head()"
   ]
  },
  {
   "cell_type": "markdown",
   "metadata": {
    "id": "6gUz-8NwIn4H"
   },
   "source": [
    "##  <font color='#99004C'> 20. How to modify data while importing as dataframe? </font>\n",
    "> How to import only every `nth row` from a csv file to create a dataframe?\n",
    ">> Import every 50th row of [BostonHousing dataset](https://raw.githubusercontent.com/selva86/datasets/master/BostonHousing.csv) as a dataframe.\n"
   ]
  },
  {
   "cell_type": "code",
   "execution_count": null,
   "metadata": {
    "colab": {
     "base_uri": "https://localhost:8080/",
     "height": 382
    },
    "id": "jvr6ngk9In4H",
    "outputId": "d604626b-183c-4120-8316-338c1f5d97b9"
   },
   "outputs": [],
   "source": [
    "# Solution 1: Use chunks and for-loop\n",
    "df = pd.read_csv('https://raw.githubusercontent.com/selva86/datasets/master/BostonHousing.csv', chunksize=50)\n",
    "df1 = pd.DataFrame()\n",
    "for chunk in df:\n",
    "    df1 = df1.append(chunk.iloc[0,:])\n",
    "    \n",
    "df1"
   ]
  },
  {
   "cell_type": "code",
   "execution_count": null,
   "metadata": {
    "id": "CjvERxUXIn4H"
   },
   "outputs": [],
   "source": [
    "# Solution 2: Use chunks and list comprehension\n",
    "df = pd.read_csv('https://raw.githubusercontent.com/selva86/datasets/master/BostonHousing.csv', chunksize=50, header = 0)\n",
    "df2 = pd.concat([chunk.iloc[0] for chunk in df], axis=1)\n",
    "df2 = df2.transpose()\n",
    "df2\n"
   ]
  },
  {
   "cell_type": "code",
   "execution_count": null,
   "metadata": {
    "id": "IiP3vFr9In4H",
    "scrolled": true
   },
   "outputs": [],
   "source": [
    "# Solution 3: Use csv reader\n",
    "import csv          \n",
    "with open(r\"C:\\Users\\Administrator\\Desktop\\Tutorial\\Data_Analysis\\BostonHousing.csv\", 'r') as f:\n",
    "    reader = csv.reader(f)\n",
    "    header = None\n",
    "    out = []\n",
    "    for i, row in enumerate(reader):\n",
    "        if i == 0:\n",
    "            header = row\n",
    "        if i%50 == 1:\n",
    "            out.append(row)\n",
    "\n",
    "df2 = pd.DataFrame(out, columns = header)\n",
    "df2\n"
   ]
  },
  {
   "cell_type": "markdown",
   "metadata": {
    "id": "ja2S1PNAIn4I"
   },
   "source": [
    ">How to change column values when importing csv to a dataframe?\n",
    ">> Change the `medv` (median house value) column so that `values <= 25 becomes Low and > 25 becomes High`."
   ]
  },
  {
   "cell_type": "code",
   "execution_count": null,
   "metadata": {
    "colab": {
     "base_uri": "https://localhost:8080/",
     "height": 200
    },
    "id": "8ra4niF4In4J",
    "outputId": "ec752993-1237-4301-b24d-3a9eb8cad4af"
   },
   "outputs": [],
   "source": [
    "df = pd.read_csv('https://raw.githubusercontent.com/selva86/datasets/master/BostonHousing.csv', \n",
    "                 converters={'medv': lambda x: 'High' if float(x) > 25 else 'Low'})\n",
    "\n",
    "df.head()"
   ]
  },
  {
   "cell_type": "code",
   "execution_count": null,
   "metadata": {
    "colab": {
     "base_uri": "https://localhost:8080/",
     "height": 382
    },
    "id": "TjBNDM2mIn4J",
    "outputId": "cce97b7a-9693-4cf5-c12d-4ca9a99408d9"
   },
   "outputs": [],
   "source": [
    "pd.concat([df.medv, df1.medv], axis = 1).iloc[df1.index]"
   ]
  },
  {
   "cell_type": "markdown",
   "metadata": {
    "id": "Lw6oUcnrIn4J"
   },
   "source": [
    "> How to import only specified columns from a csv file?\n",
    ">> Import `crim` and `medv` columns of the [BostonHousing dataset](https://raw.githubusercontent.com/selva86/datasets/master/BostonHousing.csv) as a dataframe."
   ]
  },
  {
   "cell_type": "code",
   "execution_count": null,
   "metadata": {
    "id": "VUD_IoPGIn4J"
   },
   "outputs": [],
   "source": [
    "df = pd.read_csv('https://raw.githubusercontent.com/selva86/datasets/master/BostonHousing.csv', usecols=['crim', 'medv'])\n",
    "df.head()"
   ]
  },
  {
   "cell_type": "markdown",
   "metadata": {
    "id": "T_0QXJKAIn4K"
   },
   "source": [
    ">How to get the `nrows, ncolumns, datatype, column names, summary stats of each column, summary` of a dataframe? Also get the array and list equivalent.\n",
    ">> Get the number of rows, columns, datatype and summary statistics of each column of the [Cars93](https://raw.githubusercontent.com/selva86/datasets/master/Cars93_miss.csv) dataset. Also get the numpy array and list equivalent of the dataframe."
   ]
  },
  {
   "cell_type": "code",
   "execution_count": null,
   "metadata": {
    "colab": {
     "base_uri": "https://localhost:8080/",
     "height": 305
    },
    "id": "ufiJBh8sIn4K",
    "outputId": "0a4bdb2a-3e59-412d-8f2c-ebbd8e2bcda4"
   },
   "outputs": [],
   "source": [
    "cars = pd.read_csv('https://raw.githubusercontent.com/selva86/datasets/master/Cars93_miss.csv')\n",
    "cars.head()"
   ]
  },
  {
   "cell_type": "code",
   "execution_count": null,
   "metadata": {
    "colab": {
     "base_uri": "https://localhost:8080/"
    },
    "id": "v7r5EA8lIn4K",
    "outputId": "bc33cdb1-1e02-4b33-c518-affbfa5d6de3"
   },
   "outputs": [],
   "source": [
    "#  number of rows and columns, dimension of dataframe\n",
    "print(\"Dimension : \",cars.shape)\n",
    "print(\"\\nRows : \", cars.shape[0], \"\\nColumns : \", cars.shape[1])\n",
    "# print(\"\\nRows : \", len(cars), \"\\nColumns : \", len(cars.columns))"
   ]
  },
  {
   "cell_type": "code",
   "execution_count": null,
   "metadata": {
    "colab": {
     "base_uri": "https://localhost:8080/"
    },
    "id": "VkF-rp2qIn4L",
    "outputId": "5df1c136-cfa1-414d-b5f6-4d47889f0105"
   },
   "outputs": [],
   "source": [
    "# list of column names\n",
    "cars.columns"
   ]
  },
  {
   "cell_type": "code",
   "execution_count": null,
   "metadata": {
    "colab": {
     "base_uri": "https://localhost:8080/"
    },
    "id": "kIY7_4WaIn4L",
    "outputId": "7580c358-1032-4ab4-f672-02b2e5cc7cdb",
    "scrolled": true
   },
   "outputs": [],
   "source": [
    "# datatypes\n",
    "print(cars.dtypes)"
   ]
  },
  {
   "cell_type": "code",
   "execution_count": null,
   "metadata": {
    "colab": {
     "base_uri": "https://localhost:8080/"
    },
    "id": "1Go6QFbmIn4L",
    "outputId": "79d2b4e7-db18-4ce4-d054-80addddcdbdb"
   },
   "outputs": [],
   "source": [
    "# how many columns under each dtype\n",
    "print(cars.dtypes.value_counts())"
   ]
  },
  {
   "cell_type": "code",
   "execution_count": null,
   "metadata": {
    "colab": {
     "base_uri": "https://localhost:8080/"
    },
    "id": "93wJMbBPIn4M",
    "outputId": "e4127414-a9d2-4bf0-8efb-436b72c56ec2",
    "scrolled": true
   },
   "outputs": [],
   "source": [
    "# Summary of cars dataframe\n",
    "cars.info()"
   ]
  },
  {
   "cell_type": "code",
   "execution_count": null,
   "metadata": {
    "colab": {
     "base_uri": "https://localhost:8080/",
     "height": 595
    },
    "id": "DMUjXyILIn4L",
    "outputId": "73c6c706-3a37-4372-b4b6-bb7097150f05",
    "scrolled": true
   },
   "outputs": [],
   "source": [
    "# summary statistics\n",
    "cars_stats = cars.describe()\n",
    "cars_stats.T"
   ]
  },
  {
   "cell_type": "code",
   "execution_count": null,
   "metadata": {
    "colab": {
     "base_uri": "https://localhost:8080/"
    },
    "id": "M35Q80rnIn4M",
    "outputId": "b2656565-a63c-45ff-d903-511984ef9fea"
   },
   "outputs": [],
   "source": [
    "# numpy array \n",
    "cars_arr = cars.values\n",
    "# list\n",
    "cars_list = cars.values.tolist()\n",
    "print(cars_arr, \"\\n\\n\", cars_list)"
   ]
  },
  {
   "cell_type": "markdown",
   "metadata": {
    "id": "JioNF6M7In4M"
   },
   "source": [
    ">How to rename a specific columns in a dataframe?\n",
    ">> Rename the column Type as `CarType` in cars and replace the `.` in column names with `_`."
   ]
  },
  {
   "cell_type": "code",
   "execution_count": null,
   "metadata": {
    "colab": {
     "base_uri": "https://localhost:8080/",
     "height": 430
    },
    "id": "NvOmPn9hIn4M",
    "outputId": "ea9227b5-ea29-4ca6-8600-0ff158a6bd78",
    "scrolled": true
   },
   "outputs": [],
   "source": [
    "cars = pd.read_csv('https://raw.githubusercontent.com/selva86/datasets/master/Cars93_miss.csv')\n",
    "print(cars.columns) \n",
    "\n",
    "# Rename Type to CarType\n",
    "\n",
    "# Solution 1\n",
    "cars = cars.rename(columns = {'Type': 'CarType'})\n",
    "\n",
    "# Solution 2\n",
    "# cars.rename(columns = {'Type': 'CarType'}, inplace = True)\n",
    "\n",
    "\n",
    "# Solution 3, by column index\n",
    "# cars.columns.values[2] = \"CarType\"\n",
    "\n",
    "cars.head()"
   ]
  },
  {
   "cell_type": "code",
   "execution_count": null,
   "metadata": {
    "colab": {
     "base_uri": "https://localhost:8080/"
    },
    "id": "PoMIjUbxIn4Q",
    "outputId": "5ee764ef-a8f3-42a8-d949-a53176db4b80"
   },
   "outputs": [],
   "source": [
    "# Replace with snake casing\n",
    "print(cars.columns)\n",
    "cars.columns = cars.columns.map(lambda x: x.replace('.', '_'))\n",
    "print('\\n>>>', cars.columns)"
   ]
  },
  {
   "cell_type": "markdown",
   "metadata": {
    "id": "oh7TJPi2In4Q"
   },
   "source": [
    "##  <font color='#99004C'> 21. How to check if a dataframe has missing values? </font>\n",
    ">Check if `cars` has `any missing values`, and `missing values by columns` and `count of missing values`."
   ]
  },
  {
   "cell_type": "code",
   "execution_count": null,
   "metadata": {
    "colab": {
     "base_uri": "https://localhost:8080/"
    },
    "id": "RP2wEcM_In4Q",
    "outputId": "ba986390-237a-4a13-96b8-64ee5c276e5b"
   },
   "outputs": [],
   "source": [
    "# Any missing value in cars dataframe?\n",
    "cars.isnull().values.any()"
   ]
  },
  {
   "cell_type": "code",
   "execution_count": null,
   "metadata": {
    "colab": {
     "base_uri": "https://localhost:8080/"
    },
    "id": "6IbTu6uBIn4R",
    "outputId": "0b0c29b7-91d1-4220-9281-8d61ef110d75",
    "scrolled": true
   },
   "outputs": [],
   "source": [
    "# Any missing value in cars dataframe by columns?\n",
    "cars.isnull().any()"
   ]
  },
  {
   "cell_type": "code",
   "execution_count": null,
   "metadata": {
    "colab": {
     "base_uri": "https://localhost:8080/"
    },
    "id": "dy40NP27In4R",
    "outputId": "8b329d95-184f-462a-f4fe-8e17ab1124de",
    "scrolled": true
   },
   "outputs": [],
   "source": [
    "# Count of missing values by columns\n",
    "cars.isnull().sum()"
   ]
  },
  {
   "cell_type": "code",
   "execution_count": null,
   "metadata": {
    "colab": {
     "base_uri": "https://localhost:8080/",
     "height": 35
    },
    "id": "tO0UA_fUIn4R",
    "outputId": "6c44a3ef-1234-4639-b502-abb8c2ea76fb"
   },
   "outputs": [],
   "source": [
    "# Maximum missing values in which column?\n",
    "\n",
    "# Solution 1\n",
    "cars.columns[cars.isnull().sum().argmax()]\n",
    "\n",
    "\n",
    "#Solution 2\n",
    "# cars.isnull().sum().idxmax()"
   ]
  },
  {
   "cell_type": "markdown",
   "metadata": {
    "id": "eV7tVxjiIn4R"
   },
   "source": [
    ">How to replace missing values of multiple numeric columns with the mean?\n",
    ">> Replace missing values in `Min.Price` and `Max.Price` columns with their respective mean."
   ]
  },
  {
   "cell_type": "code",
   "execution_count": null,
   "metadata": {
    "colab": {
     "base_uri": "https://localhost:8080/",
     "height": 305
    },
    "id": "i_b9BDKmIn4S",
    "outputId": "c926ddef-0610-43f9-de20-cc7918269b95"
   },
   "outputs": [],
   "source": [
    "cars.head()"
   ]
  },
  {
   "cell_type": "code",
   "execution_count": null,
   "metadata": {
    "colab": {
     "base_uri": "https://localhost:8080/"
    },
    "id": "XEmF90fiIn4S",
    "outputId": "d207f6e6-c6c7-4bca-8083-6a592cd3b981"
   },
   "outputs": [],
   "source": [
    "cars.Min_Price.mean()"
   ]
  },
  {
   "cell_type": "code",
   "execution_count": null,
   "metadata": {
    "colab": {
     "base_uri": "https://localhost:8080/"
    },
    "id": "2iIRNmmpIn4S",
    "outputId": "0e3301dd-e376-4b87-c2d2-fb59644ff18d"
   },
   "outputs": [],
   "source": [
    "cars.Max_Price.mean()"
   ]
  },
  {
   "cell_type": "code",
   "execution_count": null,
   "metadata": {
    "id": "q3MgAA-_In4T"
   },
   "outputs": [],
   "source": [
    "cars.Min_Price.fillna(cars.Min_Price.mean())"
   ]
  },
  {
   "cell_type": "code",
   "execution_count": null,
   "metadata": {
    "id": "_P7AorHYIn4T"
   },
   "outputs": [],
   "source": [
    "cars.Max_Price.fillna(cars.Max_Price.mean())"
   ]
  },
  {
   "cell_type": "code",
   "execution_count": null,
   "metadata": {
    "id": "ZIKyW6rQIn4T"
   },
   "outputs": [],
   "source": [
    "cars[[\"Min_Price\", \"Max_Price\"]].apply(lambda x: x.fillna(x.mean()))"
   ]
  },
  {
   "cell_type": "markdown",
   "metadata": {
    "id": "aGjrU_FFIn4T"
   },
   "source": [
    "##  <font color='#99004C'> 22.How to filter every nth row in a dataframe? </font>\n",
    ">From `cars`, filter the `'Manufacturer', 'Model' and 'Type'` for every `20th row starting from 1st (row 0)`."
   ]
  },
  {
   "cell_type": "code",
   "execution_count": null,
   "metadata": {
    "colab": {
     "base_uri": "https://localhost:8080/",
     "height": 200
    },
    "id": "ax3J3wI9In4U",
    "outputId": "83e818b2-8028-4390-80d3-8f33969aa928"
   },
   "outputs": [],
   "source": [
    "cars.iloc[::20, :][['Manufacturer', 'Model', 'CarType']]"
   ]
  },
  {
   "cell_type": "markdown",
   "metadata": {
    "id": "tetR-N7qIn4U"
   },
   "source": [
    "##  <font color='#99004C'> 23. How to create a primary key index by combining relevant columns? </font>\n",
    ">In `cars`, `replace NaNs with missing in columns Manufacturer, Model and Type` and create a index as a combination of these three columns and check if the index is a primary key."
   ]
  },
  {
   "cell_type": "code",
   "execution_count": null,
   "metadata": {
    "id": "uhPeXnZwIn4U",
    "scrolled": true
   },
   "outputs": [],
   "source": [
    "cars[['Manufacturer', 'Model', 'CarType']] = cars[['Manufacturer', 'Model', 'CarType']].fillna('missing')\n",
    "cars.index = cars.Manufacturer + '_' + cars.Model + '_' + cars.CarType\n",
    "cars.head()"
   ]
  },
  {
   "cell_type": "code",
   "execution_count": null,
   "metadata": {
    "id": "fKlkxmraIn4U"
   },
   "outputs": [],
   "source": [
    "# reset index\n",
    "# cars.reset_index(drop = True, inplace = True)\n",
    "# cars.head()"
   ]
  },
  {
   "cell_type": "markdown",
   "metadata": {
    "id": "6srBmcDzIn4V"
   },
   "source": [
    "##  <font color='#99004C'> 24. How to get the row number of the largest value in a column? </font>\n",
    "> Find the row position of the `largest value` of column `Price` in `cars`."
   ]
  },
  {
   "cell_type": "code",
   "execution_count": null,
   "metadata": {
    "id": "Jo5AcLXmIn4V"
   },
   "outputs": [],
   "source": [
    "# get row number of largest price\n",
    "cars.Price.argmax()"
   ]
  },
  {
   "cell_type": "code",
   "execution_count": null,
   "metadata": {
    "id": "UA3eH6MYIn4V"
   },
   "outputs": [],
   "source": [
    "# get row containing the largest price\n",
    "cars[cars.Price == max(cars.Price)]"
   ]
  },
  {
   "cell_type": "code",
   "execution_count": null,
   "metadata": {
    "id": "JHqpC6rdIn4V"
   },
   "outputs": [],
   "source": [
    "cars.sort_values(by = \"Price\", ascending = False)"
   ]
  },
  {
   "cell_type": "markdown",
   "metadata": {
    "id": "NkSl-yTqIn4W"
   },
   "source": [
    "> Find the row position of the `nth largest value` of column `Price` in `cars`."
   ]
  },
  {
   "cell_type": "code",
   "execution_count": null,
   "metadata": {
    "id": "mlGl9DgAIn4W"
   },
   "outputs": [],
   "source": [
    "# get row number of nth(5th) largest price, \n",
    "n = 5\n",
    "\n",
    "# Solution 1\n",
    "# cars.sort_values(by = \"Price\", ascending = False).index[n-1]\n",
    "\n",
    "# Solution 2\n",
    "# row_5 = cars.Price.argsort().values[-5]\n",
    "# cars.iloc[[row_5]]"
   ]
  },
  {
   "cell_type": "markdown",
   "metadata": {
    "id": "m9x-mX8jIn4W"
   },
   "source": [
    "##  <font color='#99004C'> 25. How to find and cap outliers from a series or dataframe column? </font>\n",
    "> Replace all values of series `s` in the `lower 5%ile and greater than 95%ile with respective 5th and 95th %ile value`."
   ]
  },
  {
   "cell_type": "code",
   "execution_count": null,
   "metadata": {
    "id": "LylF3oTdIn4W",
    "scrolled": true
   },
   "outputs": [],
   "source": [
    "s = pd.Series(np.logspace(-2, 2, 30))\n",
    "\n",
    "# Solution 1\n",
    "def cap_outliers(ser, low_perc, high_perc):\n",
    "    low, high = ser.quantile([low_perc, high_perc])\n",
    "    print(low_perc, '%ile: ', low, '|', high_perc, '%ile: ', high)\n",
    "    ser[ser < low] = low\n",
    "    ser[ser > high] = high\n",
    "    return(ser)\n",
    "\n",
    "capped1 = cap_outliers(s, .05, .95)\n",
    "capped1"
   ]
  },
  {
   "cell_type": "code",
   "execution_count": null,
   "metadata": {
    "id": "MhmjroMcIn4X"
   },
   "outputs": [],
   "source": [
    "# Solution 2\n",
    "from scipy.stats.mstats import winsorize\n",
    "\n",
    "capped2 = pd.Series(winsorize(s, limits=[0.05, 0.05]).tolist())"
   ]
  },
  {
   "cell_type": "markdown",
   "metadata": {
    "id": "XFbtPOKLIn4X"
   },
   "source": [
    "##  <font color='#99004C'> 26. How to get correlation of numeric variables? </font>\n",
    ">  Find the `maximum possible correlation value of each column against other columns`."
   ]
  },
  {
   "cell_type": "code",
   "execution_count": null,
   "metadata": {
    "id": "De7usqJZIn4X",
    "scrolled": true
   },
   "outputs": [],
   "source": [
    "cars.corr()"
   ]
  },
  {
   "cell_type": "code",
   "execution_count": null,
   "metadata": {
    "id": "0sUvIrKuIn4X"
   },
   "outputs": [],
   "source": [
    "# abs_corrmat\n",
    "corr_matrix = cars.corr()\n",
    "\n",
    "#max correlation val\n",
    "max_corr = corr_matrix.apply(lambda x: sorted(x, key = abs)[-2])\n",
    "max_corr\n"
   ]
  },
  {
   "cell_type": "code",
   "execution_count": null,
   "metadata": {
    "id": "I3r_024AIn4Y"
   },
   "outputs": [],
   "source": [
    "#max correlation variable\n",
    "corr_matrix.apply(lambda x: x.nlargest(2).index[-1])"
   ]
  },
  {
   "cell_type": "markdown",
   "metadata": {
    "id": "_xkP0RfAIn4Y"
   },
   "source": [
    "##  <font color='#99004C'> 27. How to normalize all columns in a dataframe? </font>\n",
    "> Normalize all numeric columns."
   ]
  },
  {
   "cell_type": "code",
   "execution_count": null,
   "metadata": {
    "id": "lVe1xt7fIn4Y",
    "scrolled": true
   },
   "outputs": [],
   "source": [
    "cars.apply(lambda x: (x- x.mean())/ x.std() if x.dtypes!= 'O' else x)"
   ]
  },
  {
   "cell_type": "markdown",
   "metadata": {
    "id": "n7-OHU9_In4Y"
   },
   "source": [
    "##  <font color='#99004C'> 28.How to get the nth largest value of a column when grouped by another column? </font>\n",
    "> In `cars`, find the `second largest` value of Price for `CarType`."
   ]
  },
  {
   "cell_type": "code",
   "execution_count": null,
   "metadata": {
    "id": "Peu1LOJgIn4Z",
    "scrolled": true
   },
   "outputs": [],
   "source": [
    "# Solution 1\n",
    "cars.groupby('CarType')['Price'].apply(lambda x:x.nlargest(2).tail(1)).reset_index()[[\"CarType\", \"Price\"]]\n",
    "\n",
    "\n",
    "# Solution 2\n",
    "# cars.groupby('CarType').agg({'Price': lambda x: sorted(x.nlargest(2))[0]})"
   ]
  },
  {
   "cell_type": "markdown",
   "metadata": {
    "id": "eQWIAaP-In4Z"
   },
   "source": [
    "##  <font color='#99004C'> 29. How to compute grouped mean on pandas dataframe and keep the grouped column as another column (not index)? </font>\n",
    ">In `cars`, compute the `mean Price` of every `CarType`, while keeping the `carType` as another column instead of an index."
   ]
  },
  {
   "cell_type": "code",
   "execution_count": null,
   "metadata": {
    "id": "adjVvcjbIn4Z"
   },
   "outputs": [],
   "source": [
    "# Solution 1\n",
    "cars.groupby(\"CarType\")[\"Price\"].mean().reset_index()"
   ]
  },
  {
   "cell_type": "code",
   "execution_count": null,
   "metadata": {
    "id": "fDJ3FkpFIn4Z"
   },
   "outputs": [],
   "source": [
    "# Solution 2\n",
    "cars.groupby(\"CarType\", as_index = False)[\"Price\"].mean()"
   ]
  },
  {
   "cell_type": "markdown",
   "metadata": {
    "id": "haBcbENAIn4Z"
   },
   "source": [
    "##  <font color='#99004C'> 30. How to join two dataframes by 2 columns so they have only the common rows? </font>\n",
    ">Join dataframes `df1` and `df2` by `fruit-pazham` and `weight-kilo`."
   ]
  },
  {
   "cell_type": "code",
   "execution_count": null,
   "metadata": {
    "id": "aqTKQShWIn4a",
    "scrolled": true
   },
   "outputs": [],
   "source": [
    "df1 = pd.DataFrame({'fruit': ['apple', 'banana', 'orange'] * 3,\n",
    "                    'weight': ['high', 'medium', 'low'] * 3,\n",
    "                    'price': np.random.randint(0, 15, 9)})\n",
    "\n",
    "df2 = pd.DataFrame({'pazham': ['apple', 'orange', 'pine'] * 2,\n",
    "                    'kilo': ['high', 'low'] * 3,\n",
    "                    'price': np.random.randint(0, 15, 6)})\n",
    "\n",
    "display(df1, df2)"
   ]
  },
  {
   "cell_type": "code",
   "execution_count": null,
   "metadata": {
    "id": "U1XbbG3wIn4a"
   },
   "outputs": [],
   "source": [
    "pd.merge(df1, df2, how='inner', left_on=['fruit', 'weight'], right_on=['pazham', 'kilo'], suffixes=['_left', '_right'])"
   ]
  },
  {
   "cell_type": "markdown",
   "metadata": {
    "id": "RY2JEBvWIn4a"
   },
   "source": [
    "##  <font color='#99004C'> 31. How to remove rows from a dataframe that are present in another dataframe? </font>\n",
    ">From `df1`, remove the rows that are present in `df2`. All three columns must be the same."
   ]
  },
  {
   "cell_type": "code",
   "execution_count": null,
   "metadata": {
    "id": "L1Zq5NUGIn4b"
   },
   "outputs": [],
   "source": [
    "df1 = pd.DataFrame({'fruit': ['apple', 'orange', 'banana'] * 3,\n",
    "                    'weight': ['high', 'medium', 'low'] * 3,\n",
    "                    'price': np.arange(9)})\n",
    "\n",
    "df2 = pd.DataFrame({'fruit': ['apple', 'orange', 'pine'] * 2,\n",
    "                    'weight': ['high', 'medium'] * 3,\n",
    "                    'price': np.arange(6)})\n",
    "\n",
    "display(df1, df2)"
   ]
  },
  {
   "cell_type": "code",
   "execution_count": null,
   "metadata": {
    "id": "IsbtpkBwIn4b"
   },
   "outputs": [],
   "source": [
    "df1[~df1.isin(df2).all(1)]"
   ]
  },
  {
   "cell_type": "markdown",
   "metadata": {
    "id": "FWkHerHpIn4b"
   },
   "source": [
    "##  <font color='#99004C'> 32. How to get the positions where values of two columns match? </font>\n"
   ]
  },
  {
   "cell_type": "code",
   "execution_count": null,
   "metadata": {
    "id": "0mDkpSorIn4b"
   },
   "outputs": [],
   "source": [
    "df = pd.DataFrame({'fruit1': np.random.choice(['apple', 'orange', 'banana'], 10),\n",
    "                    'fruit2': np.random.choice(['apple', 'orange', 'banana'], 10)})\n",
    "\n",
    "display(df)\n",
    "np.where(df.fruit1 == df.fruit2)[0].tolist()"
   ]
  },
  {
   "cell_type": "markdown",
   "metadata": {
    "id": "l22ylsriIn4b"
   },
   "source": [
    "##  <font color='#99004C'> 33. How to create lags and leads of a column in a dataframe? </font>\n",
    ">Create two new columns in `df`, one of which is a `lag1 (shift column a down by 1 row)` of column ‘a’ and the other is a `lead1 (shift column b up by 1 row)`."
   ]
  },
  {
   "cell_type": "code",
   "execution_count": null,
   "metadata": {
    "id": "gaEqVtf2In4c"
   },
   "outputs": [],
   "source": [
    "df = pd.DataFrame(np.random.randint(1, 100, 20).reshape(-1, 4), columns = list('abcd'))\n",
    "\n",
    "df['a_lag1'] = df['a'].shift() # default arg is 1\n",
    "df['b_lead1'] = df['b'].shift(-1)\n",
    "df"
   ]
  },
  {
   "cell_type": "markdown",
   "metadata": {
    "id": "Rr9qjvZ3In4c"
   },
   "source": [
    "##  <font color='#99004C'> 34. How to extract the row and column of a particular cell with given criterion? </font>\n",
    ">Which `Manufacturer`, `Model` and `CarType` has the highest `Price`? What is the row and column number of the cell with the `highest Price` value?"
   ]
  },
  {
   "cell_type": "code",
   "execution_count": null,
   "metadata": {
    "id": "1y0wolpcIn4c"
   },
   "outputs": [],
   "source": [
    "# Solution 1\n",
    "cars[cars.Price == cars.Price.max()][['Manufacturer', 'Model' , 'CarType']]"
   ]
  },
  {
   "cell_type": "code",
   "execution_count": null,
   "metadata": {
    "id": "dcK4B4rhIn4c"
   },
   "outputs": [],
   "source": [
    "# Solution 1\n",
    "cars.loc[cars.Price == cars.Price.max(),['Manufacturer', 'Model' , 'CarType']]"
   ]
  },
  {
   "cell_type": "markdown",
   "metadata": {
    "id": "gEzFNXXxIn4d"
   },
   "source": [
    "##  <font color='#99004C'> 35. How to identify the different categorical fields in a dataframe? </font>\n",
    "> Find the categorical variables in `cars`."
   ]
  },
  {
   "cell_type": "code",
   "execution_count": null,
   "metadata": {
    "id": "G4oviwjzIn4d",
    "scrolled": true
   },
   "outputs": [],
   "source": [
    "# Solution 1\n",
    "cat_cols = list(cars.select_dtypes(include=['object', 'category']).columns)\n",
    "cat_cols"
   ]
  },
  {
   "cell_type": "code",
   "execution_count": null,
   "metadata": {
    "id": "DaC1n9rEIn4d"
   },
   "outputs": [],
   "source": [
    "# Solution 2\n",
    "cat_cols = list(set(cars.columns)- set(cars._get_numeric_data().columns))\n",
    "cat_cols"
   ]
  },
  {
   "cell_type": "markdown",
   "metadata": {
    "id": "0HLL35AVIn4d"
   },
   "source": [
    "##  <font color='#99004C'> 36. How to get the cross tabulation of two or more factors in a dataframe? </font>\n"
   ]
  },
  {
   "cell_type": "code",
   "execution_count": null,
   "metadata": {
    "id": "miC8FI1lIn4d"
   },
   "outputs": [],
   "source": [
    "pd.crosstab(cars.CarType, cars.Origin)"
   ]
  },
  {
   "cell_type": "code",
   "execution_count": null,
   "metadata": {
    "id": "Frb-74rcIn4e"
   },
   "outputs": [],
   "source": [
    "pd.crosstab(cars.CarType, [cars.Origin, cars.Manufacturer], rownames=[\"CarType\"], colnames=['Origin', 'Manufacturer'])"
   ]
  },
  {
   "cell_type": "markdown",
   "metadata": {
    "id": "G82ZkwhAIn4e"
   },
   "source": [
    "##  <font color='#99004C'> 37. How to create pivot table from a dataframe? </font>\n",
    ">Create a spreadsheet-style pivot table as a DataFrame from `cars`."
   ]
  },
  {
   "cell_type": "code",
   "execution_count": null,
   "metadata": {
    "id": "q2v1rGAoIn4e"
   },
   "outputs": [],
   "source": [
    "pd.pivot_table(cars, \n",
    "               values = [\"Fuel_tank_capacity\", \"Passengers\"], \n",
    "               index = [\"CarType\", \"Origin\"], \n",
    "               columns = [\"DriveTrain\"], \n",
    "               aggfunc = np.median, \n",
    "               fill_value= 0)"
   ]
  },
  {
   "cell_type": "markdown",
   "metadata": {
    "id": "GuI3OQd0In4e"
   },
   "source": [
    "##  <font color='#99004C'> 38. How to create one-hot encodings of a categorical variable (dummy variables)? </font>\n",
    ">Get one-hot encodings for column `CarType` in the dataframe `cars`."
   ]
  },
  {
   "cell_type": "code",
   "execution_count": null,
   "metadata": {
    "id": "uLOfmV_9In4f"
   },
   "outputs": [],
   "source": [
    "cars.CarType.value_counts()"
   ]
  },
  {
   "cell_type": "code",
   "execution_count": null,
   "metadata": {
    "id": "do4ENH9AIn4f",
    "scrolled": true
   },
   "outputs": [],
   "source": [
    "car_types = pd.concat([cars.CarType, pd.get_dummies(cars.CarType)], axis=1)\n",
    "display(car_types)"
   ]
  },
  {
   "cell_type": "markdown",
   "metadata": {
    "id": "IRf-Ffc0In4f"
   },
   "source": [
    "##  <font color='#99004C'> 39. How to create a new column that contains the row number of nearest row by euclidean distance? </font>\n",
    ">Create a new column such that, each row contains the row number of `nearest row-record(nearest neighbour)` by euclidean distance."
   ]
  },
  {
   "cell_type": "code",
   "execution_count": null,
   "metadata": {
    "id": "iaFDPconIn4f"
   },
   "outputs": [],
   "source": [
    "df = pd.DataFrame(np.random.randint(1,100, 40).reshape(10, -1), columns=list('pqrs'), index=list('abcdefghij'))\n",
    "df"
   ]
  },
  {
   "cell_type": "code",
   "execution_count": null,
   "metadata": {
    "id": "NIotGUKiIn4f"
   },
   "outputs": [],
   "source": [
    "from scipy.spatial.distance import euclidean\n",
    "\n",
    "nearest_rows = []\n",
    "nearest_distance = []\n",
    "\n",
    "# iterate over rows\n",
    "for i, row in df.iterrows():\n",
    "    curr = row # current row\n",
    "    rest = df.drop(i) # remaining rows in df\n",
    "    e_dists = {}  # init dict to store euclidean dists for current row.\n",
    "    # iterate rest of rows for current row\n",
    "    for j, neighbour in rest.iterrows():\n",
    "        e_dists.update({j : euclidean(curr.values, neighbour.values)})\n",
    "#     print(e_dists)\n",
    "    nearest_rows.append(min(e_dists, key=e_dists.get))\n",
    "    nearest_distance.append(min(e_dists.values()))\n",
    "    \n",
    "df['nearest_row'] = nearest_rows\n",
    "df['dist'] = nearest_distance\n",
    "df"
   ]
  },
  {
   "cell_type": "markdown",
   "metadata": {
    "id": "b1_iXWs9In4g"
   },
   "source": [
    "##  <font color='#99004C'> 40. How to create a column containing the minimum  of each row? </font>\n",
    ">Compute the `minimum value in each row` of `df`."
   ]
  },
  {
   "cell_type": "code",
   "execution_count": null,
   "metadata": {
    "id": "B2kB84QyIn4g"
   },
   "outputs": [],
   "source": [
    "df = pd.DataFrame(np.random.randint(1,100, 40).reshape(10, -1), columns=list('pqrs'), index=list('abcdefghij'))\n",
    "df"
   ]
  },
  {
   "cell_type": "code",
   "execution_count": null,
   "metadata": {
    "id": "yxG_ZtDaIn4g"
   },
   "outputs": [],
   "source": [
    "df['row_min'] = df.apply(min, axis = 1)\n",
    "df"
   ]
  },
  {
   "cell_type": "markdown",
   "metadata": {
    "id": "OCaNljvrIn4g"
   },
   "source": [
    "##  <font color='#99004C'> 41. How to replace missing values of categorical variable? </font>\n",
    "> Replace missing values in categorical fields in `cars` with respective modes."
   ]
  },
  {
   "cell_type": "code",
   "execution_count": null,
   "metadata": {
    "id": "SBVytVQqIn4h"
   },
   "outputs": [],
   "source": [
    "cat_cols = list(cars.select_dtypes(include=['object', 'category']).columns)\n",
    "cat_cols"
   ]
  },
  {
   "cell_type": "code",
   "execution_count": null,
   "metadata": {
    "id": "3By456-hIn4h"
   },
   "outputs": [],
   "source": [
    "cars[cat_cols].isnull().sum()"
   ]
  },
  {
   "cell_type": "code",
   "execution_count": null,
   "metadata": {
    "id": "lehac0mZIn4h"
   },
   "outputs": [],
   "source": [
    "cars[cat_cols].apply(lambda x: x.fillna(x.value_counts().index[0]))"
   ]
  },
  {
   "cell_type": "code",
   "execution_count": null,
   "metadata": {
    "id": "1hYM40Z6In4h"
   },
   "outputs": [],
   "source": [
    "cars1['CarType'].value_counts()"
   ]
  },
  {
   "cell_type": "markdown",
   "metadata": {
    "id": "fb6BZktQIn4h"
   },
   "source": [
    "##  <font color='#99004C'> 42. How to typecast a variable in a dataframe? </font>\n",
    ">Typecast all categorical variables in `cars` as `category`."
   ]
  },
  {
   "cell_type": "code",
   "execution_count": null,
   "metadata": {
    "id": "DtVgNCzfIn4i"
   },
   "outputs": [],
   "source": [
    "cars1 = cars.copy()\n",
    "\n",
    "categorical_cols = [\"CarType\", \"Origin\", \"DriveTrain\"]\n",
    "cars1[categorical_cols] = cars1[categorical_cols].astype('category')"
   ]
  },
  {
   "cell_type": "code",
   "execution_count": null,
   "metadata": {
    "colab": {
     "base_uri": "https://localhost:8080/"
    },
    "id": "WTTUIn0qIn4i",
    "outputId": "c8bc6705-a8de-4ab9-b4b3-bf68e5a36968",
    "scrolled": true
   },
   "outputs": [],
   "source": [
    "cars1.dtypes"
   ]
  },
  {
   "cell_type": "markdown",
   "metadata": {
    "id": "AlQHZEV3In4i"
   },
   "source": [
    "##  <font color='#99004C'> 43. How to get summary stats of categorical fields? </font>\n"
   ]
  },
  {
   "cell_type": "code",
   "execution_count": null,
   "metadata": {
    "colab": {
     "base_uri": "https://localhost:8080/",
     "height": 139
    },
    "id": "NwFrZsOHIn4i",
    "outputId": "e5f73a96-91ab-40f7-ed61-a0154aa7f16d"
   },
   "outputs": [],
   "source": [
    "cars1.describe(include=['category']).T"
   ]
  },
  {
   "cell_type": "markdown",
   "metadata": {
    "id": "HTUuqPyhIn4i"
   },
   "source": [
    "##  <font color='#99004C'> 44. How to label encode categorical fields? </font>\n"
   ]
  },
  {
   "cell_type": "code",
   "execution_count": null,
   "metadata": {
    "id": "VSxzjdJ_In4j"
   },
   "outputs": [],
   "source": [
    "car_type_labeled = cars1.CarType.cat.codes\n",
    "pd.concat([cars1.CarType, car_type_labeled], axis = 1)"
   ]
  },
  {
   "cell_type": "markdown",
   "metadata": {
    "id": "9q7KvqE4In4j"
   },
   "source": [
    "##  <font color='#99004C'> 45. How to split a column containing sequences to multiple columns? </font>\n"
   ]
  },
  {
   "cell_type": "code",
   "execution_count": null,
   "metadata": {
    "id": "X0uSFRjGIn4j"
   },
   "outputs": [],
   "source": [
    "d = [{\"a\": \"46\", \"b\": \"3\", \"c\": \"12\"}, {\"a\": \"36\", \"b\": \"5\", \"c\": \"8\"},{\"b\": \"2\", \"c\": \"7\"}, {\"c\": \"11\"}, {\"a\": \"82\", \"c\": \"15\"}]\n",
    "\n",
    "df = pd.DataFrame(zip([101,102,103,104,105], d), columns = ['ID', 'cols'])\n",
    "df"
   ]
  },
  {
   "cell_type": "code",
   "execution_count": null,
   "metadata": {
    "id": "RNCydv7AIn4j"
   },
   "outputs": [],
   "source": [
    "# Solution 1\n",
    "df1 = pd.concat([df['ID'],df['cols'].apply(pd.Series)], axis = 1)\n",
    "df1"
   ]
  },
  {
   "cell_type": "code",
   "execution_count": null,
   "metadata": {
    "id": "hqAH5yotIn4j"
   },
   "outputs": [],
   "source": [
    "# Solution 2\n",
    "pd.concat([df.drop(['cols'], axis = 1), pd.json_normalize(df['cols'])], axis = 1)"
   ]
  },
  {
   "cell_type": "markdown",
   "metadata": {
    "id": "w96qPx-7In4k"
   },
   "source": [
    "##  <font color='#99004C'> 46. How to handle duplicates in dataframe? </font>\n",
    ">Drop duplicates by specific/all columns."
   ]
  },
  {
   "cell_type": "code",
   "execution_count": null,
   "metadata": {
    "id": "28aD66rhIn4k"
   },
   "outputs": [],
   "source": [
    "df1 = pd.DataFrame({'fruit': ['apple', 'banana', 'orange', 'apple', 'banana', 'banana', 'orange', 'orange', 'orange'],\n",
    "                    'weight': ['high', 'medium', 'low'] * 3,\n",
    "                    'price': [11, 9, 13, 11, 11, 3, 12, 9, 13]})\n",
    "df1"
   ]
  },
  {
   "cell_type": "code",
   "execution_count": null,
   "metadata": {
    "id": "5u07qMTjIn4k"
   },
   "outputs": [],
   "source": [
    "# drop duplicates by a subset of columns\n",
    "df1.drop_duplicates(subset = ['fruit', 'weight'])"
   ]
  },
  {
   "cell_type": "code",
   "execution_count": null,
   "metadata": {
    "id": "Yx2m04pBIn4k"
   },
   "outputs": [],
   "source": [
    "# drop duplicates by all columns\n",
    "df1.drop_duplicates(keep = 'last')"
   ]
  },
  {
   "cell_type": "markdown",
   "metadata": {
    "id": "BacScev5In4l"
   },
   "source": [
    "##  <font color='#99004C'> 47. How to select rows based on conditions on multiple columns? </font>\n",
    ">Get all rows for which `Price` is `greater than 30` and `CarType` is `Midsize in the dataframe `cars`."
   ]
  },
  {
   "cell_type": "code",
   "execution_count": null,
   "metadata": {
    "id": "B4nvTkIAIn4l",
    "scrolled": true
   },
   "outputs": [],
   "source": [
    "cars[(cars.Price > 30) & (cars.CarType == 'Midsize')]"
   ]
  },
  {
   "cell_type": "markdown",
   "metadata": {
    "id": "MlcS-Ry5In4l"
   },
   "source": [
    "##  <font color='#99004C'> 48. How to apply user-defined function on dataframe columns? </font>\n"
   ]
  },
  {
   "cell_type": "code",
   "execution_count": null,
   "metadata": {
    "id": "VZzkGUYsIn4l"
   },
   "outputs": [],
   "source": [
    "def capacity(val):\n",
    "    return 'Small Tank' if val < 13 else 'Medium Tank' if val < 18 else 'Large Tank'"
   ]
  },
  {
   "cell_type": "code",
   "execution_count": null,
   "metadata": {
    "id": "lTXHLFD-UBFk"
   },
   "outputs": [],
   "source": [
    "cars.Fuel_tank_capacity.apply(capacity)"
   ]
  },
  {
   "cell_type": "code",
   "execution_count": null,
   "metadata": {
    "id": "mVeclwoqIn4m",
    "scrolled": true
   },
   "outputs": [],
   "source": [
    "pd.concat([cars.Fuel_tank_capacity,cars.Fuel_tank_capacity.apply(capacity)], axis =1)"
   ]
  },
  {
   "cell_type": "markdown",
   "metadata": {
    "id": "ZwcIeeJ0In4m"
   },
   "source": [
    "## <font color='#000033'> Matplotlib </font>\n",
    "\n",
    ">**Matplotlib** is probably the single most used Python package for 2D-graphics. It provides both a very quick way to visualize data from Python and publication-quality figures in many formats.\n",
    " The most used module of Matplotib is **pyplot** which provides a convenient interface to the matplotlib object-oriented plotting library. \n",
    " \n",
    "Another great thing about pandas is that it integrates with Matplotlib, so you get the ability to plot DataFrames and Series directly. We use the standard convention for referencing the matplotlib API. To get started we need to import Matplotlib."
   ]
  },
  {
   "cell_type": "code",
   "execution_count": null,
   "metadata": {
    "id": "TdveGtkvIn4n"
   },
   "outputs": [],
   "source": [
    "import matplotlib.pyplot as plt\n",
    "\n",
    "# to display plots in line \n",
    "%matplotlib inline    \n",
    "\n",
    "# set font and plot size to be larger\n",
    "plt.rcParams.update({'font.size': 20, 'figure.figsize': (10, 8)}) "
   ]
  },
  {
   "cell_type": "markdown",
   "metadata": {
    "id": "nCro34L1In4n"
   },
   "source": [
    "##  <font color='#99004C'> Explorator Data Analysis (EDA) </font>"
   ]
  },
  {
   "cell_type": "code",
   "execution_count": null,
   "metadata": {
    "id": "DqKWs3ghIn4n"
   },
   "outputs": [],
   "source": [
    "df = pd.read_csv(\"https://raw.githubusercontent.com/selva86/datasets/master/BostonHousing.csv\")\n",
    "\n",
    "# Print first 5 rows of df\n",
    "df.head()"
   ]
  },
  {
   "cell_type": "markdown",
   "metadata": {
    "id": "T0o_8gpyIn4n"
   },
   "source": [
    ">This data frame contains the following columns:\n",
    "\n",
    "**crim** : per capita crime rate by town.\n",
    "\n",
    "**zn** : proportion of residential land zoned for lots over 25,000 sq.ft.\n",
    "\n",
    "**indus** : proportion of non-retail business acres per town.\n",
    "\n",
    "**chas** : Charles River dummy variable (= 1 if tract bounds river; 0 otherwise).\n",
    "\n",
    "**nox** : nitrogen oxides concentration (parts per 10 million).\n",
    "\n",
    "**rm** : average number of rooms per dwelling.\n",
    "\n",
    "**age** : proportion of owner-occupied units built prior to 1940.\n",
    "\n",
    "**dis** : weighted mean of distances to five Boston employment centres.\n",
    "\n",
    "**rad** : index of accessibility to radial highways.\n",
    "\n",
    "**tax** : full-value property-tax rate per $10000.\n",
    "\n",
    "**ptratio** : pupil-teacher ratio by town.\n",
    "\n",
    "**b** : 1000(Bk - 0.63)^2 where Bk is the proportion of blacks by town.\n",
    "\n",
    "**lstat** : lower status of the population (percent).\n",
    "\n",
    "**medv** : median value of owner-occupied homes in \\$1000s."
   ]
  },
  {
   "cell_type": "code",
   "execution_count": null,
   "metadata": {
    "id": "yX9iQFY8In4n"
   },
   "outputs": [],
   "source": [
    "# Dimension\n",
    "df.shape"
   ]
  },
  {
   "cell_type": "code",
   "execution_count": null,
   "metadata": {
    "id": "OQkrheBPIn4o",
    "scrolled": true
   },
   "outputs": [],
   "source": [
    "# Get a concise summary of data\n",
    "df.info()"
   ]
  },
  {
   "cell_type": "code",
   "execution_count": null,
   "metadata": {
    "id": "CORyjCYRIn4o"
   },
   "outputs": [],
   "source": [
    "# columns\n",
    "df.columns"
   ]
  },
  {
   "cell_type": "code",
   "execution_count": null,
   "metadata": {
    "id": "F8kdwC1ZIn4o",
    "scrolled": true
   },
   "outputs": [],
   "source": [
    "# get summary statistics of data, numeric variables \n",
    "df.describe().T"
   ]
  },
  {
   "cell_type": "code",
   "execution_count": null,
   "metadata": {
    "id": "mmiZIUYUIn4o"
   },
   "outputs": [],
   "source": [
    "# get summary statistics of data, categorical variables \n",
    "#df.describe(include=['O'])"
   ]
  },
  {
   "cell_type": "code",
   "execution_count": null,
   "metadata": {
    "id": "76jr4VJRIn4o"
   },
   "outputs": [],
   "source": [
    "# Check is there is null value\n",
    "df.isnull().sum()"
   ]
  },
  {
   "cell_type": "code",
   "execution_count": null,
   "metadata": {
    "id": "H2wVLBkaIn4p"
   },
   "outputs": [],
   "source": [
    "# Drop null values\n",
    "df.dropna(inplace = True)"
   ]
  },
  {
   "cell_type": "code",
   "execution_count": null,
   "metadata": {
    "id": "vmmdyBFAIn4p"
   },
   "outputs": [],
   "source": [
    "# Check dimension of df after dropping obs with missing values\n",
    "df.shape"
   ]
  },
  {
   "cell_type": "code",
   "execution_count": null,
   "metadata": {
    "id": "XNa3pS87In4q"
   },
   "outputs": [],
   "source": [
    "plt.hist(df['medv'], bins = 30)\n",
    "plt.title('Distribution of Median median value of owner-occupied homes')\n",
    "plt.plot()"
   ]
  },
  {
   "cell_type": "code",
   "execution_count": null,
   "metadata": {
    "id": "KfdXzhOgIn4q"
   },
   "outputs": [],
   "source": [
    "plt.bar(df.crim,df.medv)\n",
    "plt.xlabel('Crime Rate')\n",
    "plt.ylabel('Price of the House')\n",
    "plt.title('Crime rate vs Price of house')\n",
    "plt.plot()"
   ]
  },
  {
   "cell_type": "code",
   "execution_count": null,
   "metadata": {
    "id": "EFO-yQt9In4r",
    "scrolled": true
   },
   "outputs": [],
   "source": [
    "plt.bar(df.nox,df.medv)\n",
    "plt.xlabel('Nitric Oxide concentration')\n",
    "plt.ylabel('Price of the House')\n",
    "plt.title('Nitric Oxide concentration vs Price of house')\n",
    "plt.plot()"
   ]
  },
  {
   "cell_type": "markdown",
   "metadata": {
    "id": "LYWnohxpIn4r"
   },
   "source": [
    "Variables `crim`, `zn`, `rm` and `b` have a large difference between their median and mean which indicates lot of outliers in respective variables."
   ]
  },
  {
   "cell_type": "code",
   "execution_count": null,
   "metadata": {
    "id": "jzMFqEUMIn4r"
   },
   "outputs": [],
   "source": [
    "plt.hist(df.b)"
   ]
  },
  {
   "cell_type": "code",
   "execution_count": null,
   "metadata": {
    "id": "hEM3qTEcIn4r",
    "scrolled": true
   },
   "outputs": [],
   "source": [
    "df.boxplot(column=['crim', 'zn', 'rm', 'b'])"
   ]
  },
  {
   "cell_type": "code",
   "execution_count": null,
   "metadata": {
    "id": "gidHMdUnIn4s",
    "outputId": "866d46dc-7953-4cff-92f0-3828a7d4302c",
    "scrolled": true
   },
   "outputs": [],
   "source": [
    "f = plt.figure(figsize=(19, 15))\n",
    "plt.matshow(df.corr(), fignum=f.number)\n",
    "plt.xticks(range(df.shape[1]), df.columns, fontsize=14, rotation=45)\n",
    "plt.yticks(range(df.shape[1]), df.columns, fontsize=14)\n",
    "cb = plt.colorbar()\n",
    "cb.ax.tick_params(labelsize=14)\n",
    "plt.title('Correlation Matrix', fontsize=16);"
   ]
  }
 ],
 "metadata": {
  "colab": {
   "collapsed_sections": [
    "n7-OHU9_In4Y",
    "eQWIAaP-In4Z",
    "RY2JEBvWIn4a",
    "FWkHerHpIn4b",
    "ZwcIeeJ0In4m"
   ],
   "name": "Pandas, Numpy & Matplotlib.ipynb",
   "provenance": []
  },
  "kernelspec": {
   "display_name": "Python 3",
   "language": "python",
   "name": "python3"
  },
  "language_info": {
   "codemirror_mode": {
    "name": "ipython",
    "version": 3
   },
   "file_extension": ".py",
   "mimetype": "text/x-python",
   "name": "python",
   "nbconvert_exporter": "python",
   "pygments_lexer": "ipython3",
   "version": "3.8.5"
  }
 },
 "nbformat": 4,
 "nbformat_minor": 1
}
