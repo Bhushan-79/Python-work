{
 "cells": [
  {
   "cell_type": "markdown",
   "metadata": {},
   "source": [
    "### Q1 : Write a interactive program that takes user age as input and return `You're, not eligible.` if age is less than 21 else `Welcome!` if age is greater than or equal to 21.\n",
    "\n",
    "**Hint:** Ensure that no absurd age like -10, 0, 100, etc is specified. Age range should be (0, 80].  Also include necesary exception handling block to make your code robust."
   ]
  },
  {
   "cell_type": "code",
   "execution_count": 1,
   "metadata": {},
   "outputs": [
    {
     "name": "stdout",
     "output_type": "stream",
     "text": [
      "Enter your age :56\n",
      "Welcome!\n"
     ]
    }
   ],
   "source": [
    "### START CODE HERE ### \n",
    "\n",
    "n = input(\"Enter your age :\")\n",
    "\n",
    "try:\n",
    "    age = int(n)\n",
    "    if age < 0:\n",
    "        print(\"Provdie valid age.\")\n",
    "    elif age < 21:\n",
    "        print(\"You're too young!\")\n",
    "    elif age <= 80:\n",
    "        print(\"Welcome!\")\n",
    "    else:\n",
    "        print(\"You're too old!\")\n",
    "\n",
    "except:\n",
    "    pass\n",
    "    "
   ]
  },
  {
   "cell_type": "markdown",
   "metadata": {},
   "source": [
    "### Q2 : Write a interactive program that takes three different numbers as user input and returns the maximum number.\n",
    "\n",
    "**Hint:** Do not use any built-in function, use opertors to compare values. Also, ensure that the numbers provided by user are all different."
   ]
  },
  {
   "cell_type": "code",
   "execution_count": 19,
   "metadata": {},
   "outputs": [
    {
     "name": "stdout",
     "output_type": "stream",
     "text": [
      "Enter three numbers :20 22 13\n",
      "22.0\n"
     ]
    }
   ],
   "source": [
    "### START CODE HERE ### \n",
    "\n",
    "num1, num2, num3 = map(float, input(\"Enter three numbers :\").split())\n",
    "\n",
    "if num1 != num2 != num3:\n",
    "    if num1 > num2 and num1 > num3:\n",
    "        print(num1)\n",
    "    elif num2 > num1 and num2 > num3:\n",
    "        print(num2)\n",
    "    else:\n",
    "        print(num3)\n",
    "else:\n",
    "    print(\"Your numbers should be unique!\")"
   ]
  },
  {
   "cell_type": "markdown",
   "metadata": {},
   "source": [
    "### Q3 : Try to solve Q2 using conditional expression.\n",
    "\n",
    "**Hint:**  `<true_val> if <condition> else <false_val>`"
   ]
  },
  {
   "cell_type": "code",
   "execution_count": null,
   "metadata": {},
   "outputs": [],
   "source": [
    "### START CODE HERE ### \n",
    "\n",
    "num1, num2, num3 = map(float, input(\"Enter three numbers :\").split())\n",
    "print(num1 if (num1 > num2 and num1 > num3) else num2 if (num2 > num1 and num2 > num3) else num3)"
   ]
  },
  {
   "cell_type": "markdown",
   "metadata": {},
   "source": [
    "### Q4 : The maximum speed is 50 if we are within the city, otherwise it is 100. Translate this to ternary Python statements.\n",
    "\n",
    "**Hint:**  Ternary operator are conditional expression. What if your speed is above 100? "
   ]
  },
  {
   "cell_type": "code",
   "execution_count": 21,
   "metadata": {},
   "outputs": [
    {
     "name": "stdout",
     "output_type": "stream",
     "text": [
      "Max. speed is 100.\n"
     ]
    }
   ],
   "source": [
    "### START CODE HERE ### \n",
    "\n",
    "in_city = False\n",
    "print(\"Max. speed is 50.\" if in_city else \"Max. speed is 100.\")"
   ]
  },
  {
   "cell_type": "markdown",
   "metadata": {},
   "source": [
    "### Q5 : Write an interactive program that calculates the total pay for the week, taking into account overtime. Hours worked over 40 are overtime, paid at 1.5 times the normal rate. Hourly wage rate is `$15`.\n",
    "\n",
    "**Sample input1**: `45.6`\n",
    "\n",
    "**Sample output1:** `726.0`\n",
    "\n",
    "**Sample input1**: `40`\n",
    "\n",
    "**Sample output1:** `600.0`"
   ]
  },
  {
   "cell_type": "code",
   "execution_count": 24,
   "metadata": {},
   "outputs": [
    {
     "name": "stdout",
     "output_type": "stream",
     "text": [
      "How many hours have you worked this week? 40\n",
      "Your wage is 600.\n"
     ]
    }
   ],
   "source": [
    "### START CODE HERE ### \n",
    "\n",
    "\n",
    "hrs_worked = float(input('How many hours have you worked this week? '))\n",
    "if hrs_worked > 40:\n",
    "    wage = 40 * 15 + (hrs_worked - 40) *15 * 1.5\n",
    "else:\n",
    "    wage = hrs_worked * 15\n",
    "print(f\"Your wage is {wage}.\")\n"
   ]
  },
  {
   "cell_type": "markdown",
   "metadata": {},
   "source": [
    "### Q6 : Write a program that prompts students for how many credits they have. Print whether or not they have enough credits for graduation. (At Loyola University Chicago 120 credits are needed for graduation.)"
   ]
  },
  {
   "cell_type": "code",
   "execution_count": null,
   "metadata": {},
   "outputs": [],
   "source": [
    "### START CODE HERE ### \n",
    "\n",
    "credits = float(input('How many credit do you have? '))\n",
    "\n",
    "if credits >= 120:\n",
    "    print('You have enough credits to graduate!')\n",
    "else:\n",
    "    print('You do not have enough credits to graduate!')"
   ]
  },
  {
   "cell_type": "markdown",
   "metadata": {},
   "source": [
    "### Q7 : Write an interactive program that asks the number between 1 and 10 and print if the number is `Even` or `Odd`. If the number is out of range the program should display \"invalid number\". "
   ]
  },
  {
   "cell_type": "code",
   "execution_count": 27,
   "metadata": {},
   "outputs": [
    {
     "name": "stdout",
     "output_type": "stream",
     "text": [
      "Enter a number between 1 and 10. 11\n",
      "Invalid.\n"
     ]
    }
   ],
   "source": [
    "### START CODE HERE ### \n",
    "\n",
    "n = float(input('Enter your number: '))\n",
    "\n",
    "if n % 1:\n",
    "    print('Provide integer number')\n",
    "\n",
    "elif n >= 1 and n <= 10:\n",
    "    if not n % 2:\n",
    "        print('Even')\n",
    "    else:\n",
    "        print('Odd')\n",
    "else:\n",
    "    print('Invalid.')"
   ]
  },
  {
   "cell_type": "markdown",
   "metadata": {},
   "source": [
    "### Q8 : You are a shopkeeper and to interact with your customers you have to write a program that helps your customers to place order. In case the item is not available then your program should display `Item not available` , otherwise it will display `<product_name> added to cart`. The items that are available currently as listed in the code cell below.\n",
    "\n",
    "**Hint:** Apple, apple, APPLE, apPle, etc. all refer to the same item `apple`.\n",
    "\n",
    "`product_list = ['apple', 'orange', 'milk', 'ham', 'bread', 'cheese']`\n",
    "\n",
    "**Sample input1**: `apple`\n",
    "\n",
    "**Sample output1:** `Apple added to cart`\n",
    "\n",
    "**Sample input1**: `flour`\n",
    "\n",
    "**Sample output1:** `Item not available`"
   ]
  },
  {
   "cell_type": "code",
   "execution_count": 31,
   "metadata": {},
   "outputs": [
    {
     "name": "stdout",
     "output_type": "stream",
     "text": [
      "What product you are looking for? eGG\n",
      "Item not available.\n"
     ]
    }
   ],
   "source": [
    "### START CODE HERE ### \n",
    "\n",
    "\n",
    "product_list = ['apple', 'orange', 'milk', 'ham', 'bread', 'cheese']\n",
    "\n",
    "n = input(\"What product you are looking for? \")\n",
    "\n",
    "if n.lower() in product_list:\n",
    "    print(f\"{n.capitalize()} added to cart.\")\n",
    "else:\n",
    "    print(\"Item not available.\")"
   ]
  },
  {
   "cell_type": "markdown",
   "metadata": {},
   "source": [
    "### Q9 : A leap year is a calendar year containing an additional day added to keep the calendar year synchronized with the astronomical or seasonal year. In the Gregorian calendar, each leap year has 366 days instead of 365, by extending February to 29 days rather than the common 28. These extra days occur in years which are multiples of four (with the exception of centennial years not divisible by 400). Write a Python program, which asks for a year and calculates, if this year is a leap year or not.\n"
   ]
  },
  {
   "cell_type": "code",
   "execution_count": 40,
   "metadata": {},
   "outputs": [
    {
     "name": "stdout",
     "output_type": "stream",
     "text": [
      "Which year? 1900\n",
      "Not a leap year\n"
     ]
    }
   ],
   "source": [
    "### START CODE HERE ### \n",
    "# divisible by 4\n",
    "# divisible by 400 if divisible by 100\n",
    "\n",
    "yr = int(input('Year? '))\n",
    "\n",
    "if yr % 4 != 0: # True if yr not completely divisible by 4, yr % 4\n",
    "    print('Not a leap year')\n",
    "elif yr % 100 == 0 and yr % 400 != 0: # elif not yr % 100 and yr % 400\n",
    "    print('Not a leap year')\n",
    "else:\n",
    "    print('Leap year')"
   ]
  },
  {
   "cell_type": "markdown",
   "metadata": {},
   "source": [
    "### Q10 : Body mass index (BMI) is a value derived from the mass (weight) and height of a person. The BMI is defined as the body mass divided by the square of the body height, and is universally expressed in units of kg/m2, resulting from mass in kilograms and height in metres.  \n",
    "\n",
    ">  BMI = $\\frac{m}{h^2}$\n",
    "\n",
    "### Write a program, which asks for the length and the weight of a person and returns an evaluation string according to the following table:\n",
    "\n",
    "\n",
    "<img src=\"https://www.python-course.eu/images/bmi_evaluation.png\">\n"
   ]
  },
  {
   "cell_type": "code",
   "execution_count": null,
   "metadata": {},
   "outputs": [],
   "source": [
    "### START CODE HERE ### \n",
    "\n",
    "height = float(input(\"What is your height? \"))\n",
    "weight = float(input(\"What is your weight? \"))\n",
    "\n",
    "bmi = weight / height ** 2\n",
    "print(bmi)\n",
    "if bmi < 15:\n",
    "    print(\"Very severely underweight\")\n",
    "elif bmi < 16:\n",
    "    print(\"Severely underweight\")\n",
    "elif bmi < 18.5:\n",
    "    print(\"Underweight\")\n",
    "elif bmi < 25:\n",
    "    print(\"Normal (healthy weight)\")\n",
    "elif bmi < 30:\n",
    "    print(\"Overweight\")\n",
    "elif bmi < 35:\n",
    "    print(\"Obese Class I (Moderately obese)\")\n",
    "elif bmi < 40:\n",
    "    print(\"Obese Class II (Severely obese)\")\n",
    "elif bmi < 45:\n",
    "    print(\"Obese Class III (Severely obese)\")\n",
    "elif bmi < 50:\n",
    "    print(\"Obese Class IV (Moderately obese)\")\n",
    "elif bmi < 60:\n",
    "    print(\"Obese Class V (Severely obese)\")\n",
    "else:\n",
    "    print(\"Obese Class VI (Very severely obese)\")"
   ]
  }
 ],
 "metadata": {
  "kernelspec": {
   "display_name": "Python 3",
   "language": "python",
   "name": "python3"
  },
  "language_info": {
   "codemirror_mode": {
    "name": "ipython",
    "version": 3
   },
   "file_extension": ".py",
   "mimetype": "text/x-python",
   "name": "python",
   "nbconvert_exporter": "python",
   "pygments_lexer": "ipython3",
   "version": "3.8.5"
  }
 },
 "nbformat": 4,
 "nbformat_minor": 4
}
