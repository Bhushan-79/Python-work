{
 "cells": [
  {
   "cell_type": "markdown",
   "metadata": {},
   "source": [
    "### Q1 : Write a python program to print the square of all numbers from 0 to 10."
   ]
  },
  {
   "cell_type": "code",
   "execution_count": null,
   "metadata": {},
   "outputs": [],
   "source": [
    "### START CODE HERE ###\n",
    "\n",
    "for i in range(11):\n",
    "    print(f\"Square of {i} = {i**2}\")"
   ]
  },
  {
   "cell_type": "markdown",
   "metadata": {},
   "source": [
    "### Q2 : Suppose we have a list of integers\n",
    "> `numbers = [1, 2, 3, 4, 5, 6]`\n",
    "- How to add 5 to each number?\n",
    "- What if we want to add 5 to only the second to the fifth number?\n",
    "- What if we want to add 5 to numbers with only even-numbers?"
   ]
  },
  {
   "cell_type": "code",
   "execution_count": null,
   "metadata": {},
   "outputs": [],
   "source": [
    "### START CODE HERE ###\n",
    "\n",
    "numbers = [1, 2, 3, 4, 5, 6]\n",
    "\n",
    "# for i in range(len(numbers)):\n",
    "#     numbers[i]+=5\n",
    "# print(numbers)\n",
    "\n",
    "# for i in range(2,len(numbers),3):\n",
    "#     numbers[i] += 5\n",
    "# print(numbers)\n",
    "\n",
    "# for i in range(1, len(numbers), 2):\n",
    "#     numbers[i] += 5\n",
    "# print(numbers)"
   ]
  },
  {
   "cell_type": "markdown",
   "metadata": {},
   "source": [
    "### Q3 : Write a Python program that accepts a word from the user and reverse it."
   ]
  },
  {
   "cell_type": "code",
   "execution_count": null,
   "metadata": {},
   "outputs": [],
   "source": [
    "### START CODE HERE ###\n",
    "\n",
    "word = input(\"Input a word to reverse: \")\n",
    "\n",
    "for char in range(len(word) - 1, -1, -1):\n",
    "    print(word[char], end=\"\")\n"
   ]
  },
  {
   "cell_type": "markdown",
   "metadata": {},
   "source": [
    "### Q : Write a program to reverse a given integer number."
   ]
  },
  {
   "cell_type": "code",
   "execution_count": null,
   "metadata": {},
   "outputs": [],
   "source": [
    "num = int(input(\"Input an integer to reverse: \"))\n",
    "reverse_number = 0\n",
    "print(\"Given Number \", num)\n",
    "while num > 0:\n",
    "    remainder = num % 10\n",
    "    reverse_number = (reverse_number * 10) + remainder\n",
    "    num = num // 10\n",
    "print(\"Revered Number \", reverse_number)"
   ]
  },
  {
   "cell_type": "markdown",
   "metadata": {},
   "source": [
    "### Q4 : There are two lists - first contains students' names and second list contains their corresponding marks.\n",
    "> `students = [\"Kevin\", \"Zara\", \"Tom\", \"Chris\", \"Pritam\", \"Mike\"]`\n",
    "\n",
    "> `scores = [80, 76, 92, 55, 81, 72]`\n",
    "- Print each student's name and his/her corresponding marks in each line."
   ]
  },
  {
   "cell_type": "code",
   "execution_count": null,
   "metadata": {},
   "outputs": [],
   "source": [
    "### START CODE HERE ###\n",
    "\n",
    "students = [\"Kevin\", \"Zara\", \"Tom\", \"Chris\", \"Pritam\", \"Mike\"]\n",
    "scores = [80, 76, 92, 55, 81, 72]\n",
    "\n",
    "for i in zip(students, scores):\n",
    "    print(f\"{i[0]} has scored {i[1]}.\")"
   ]
  },
  {
   "cell_type": "markdown",
   "metadata": {},
   "source": [
    "### Q5 : Use a for loop to display elements from a given list which are present at even positions."
   ]
  },
  {
   "cell_type": "code",
   "execution_count": null,
   "metadata": {},
   "outputs": [],
   "source": [
    "### START CODE HERE ###\n",
    "\n",
    "my_list = [10, 20, 30, 40, 50, 60, 70, 80, 90, 100]\n",
    "for i in my_list[1::2]:\n",
    "    print(i, end=\" \")"
   ]
  },
  {
   "cell_type": "markdown",
   "metadata": {},
   "source": [
    "### Q6: Write a Python program which takes two digits m (row) and n (column) as input and generates a two-dimensional array. The element value in the i-th row and j-th column of the array should be `i*j`."
   ]
  },
  {
   "cell_type": "code",
   "execution_count": null,
   "metadata": {},
   "outputs": [],
   "source": [
    "### START CODE HERE ###\n",
    "\n",
    "row_num = int(input(\"Input number of rows: \"))\n",
    "col_num = int(input(\"Input number of columns: \"))\n",
    "multi_list = [[0 for col in range(col_num)] for row in range(row_num)]\n",
    "\n",
    "for row in range(row_num):\n",
    "    for col in range(col_num):\n",
    "        multi_list[row][col]= row*col\n",
    "\n",
    "multi_list"
   ]
  },
  {
   "cell_type": "markdown",
   "metadata": {},
   "source": [
    "### Q7 : Write a function called digit_sum that takes a positive integer n as input and returns the sum of all that number's digits."
   ]
  },
  {
   "cell_type": "code",
   "execution_count": null,
   "metadata": {},
   "outputs": [],
   "source": [
    "### START CODE HERE ###\n",
    "\n",
    "number = input(\"Enter an integer number: \")\n",
    "count=0\n",
    "for num in number:\n",
    "    n = int(num)\n",
    "    count += n\n",
    "\n",
    "print(count)"
   ]
  },
  {
   "cell_type": "markdown",
   "metadata": {},
   "source": [
    "### Q8 : Write an interactive program that takes a number from user to calculate factorial of that number.¶"
   ]
  },
  {
   "cell_type": "code",
   "execution_count": null,
   "metadata": {},
   "outputs": [],
   "source": [
    "# n! = n * (n - 1) * (n - 2) * .......* 3 * 2 * 1\n",
    "# 0! = 1; 1! = 1\n",
    "\n",
    "### START CODE HERE ###\n",
    "\n",
    "number = int(input(\"Enter an integer number: \"))\n",
    "\n",
    "factorial = 1\n",
    "if number < 0:\n",
    "    print(\"Please provide a positive integer.\")\n",
    "elif number <= 1:\n",
    "    print(f\"Factorial of {number} = 1.\")\n",
    "else:\n",
    "    for i in range(2, number+1):\n",
    "        factorial *= i\n",
    "    print(f\"Factorial of {number} = {factorial}.\")"
   ]
  },
  {
   "cell_type": "code",
   "execution_count": 1,
   "metadata": {},
   "outputs": [
    {
     "name": "stdout",
     "output_type": "stream",
     "text": [
      "Enter an integer number: 5\n",
      "120\n"
     ]
    }
   ],
   "source": [
    "# Using a while loop\n",
    "\n",
    "number = int(input(\"Enter an integer number: \"))\n",
    "\n",
    "fact = 1\n",
    "\n",
    "while number > 1:\n",
    "    fact *= number\n",
    "    number -= 1\n",
    "    \n",
    "print(fact)\n"
   ]
  },
  {
   "cell_type": "code",
   "execution_count": 4,
   "metadata": {},
   "outputs": [],
   "source": [
    "# Using recursive function\n",
    "\n",
    "def factorial(num):\n",
    "    if num < 0:\n",
    "        return None\n",
    "    elif num == 0 or num == 1:\n",
    "        return 1\n",
    "    else:\n",
    "        return num * factorial(num-1)"
   ]
  },
  {
   "cell_type": "code",
   "execution_count": 5,
   "metadata": {},
   "outputs": [
    {
     "data": {
      "text/plain": [
       "120"
      ]
     },
     "execution_count": 5,
     "metadata": {},
     "output_type": "execute_result"
    }
   ],
   "source": [
    "factorial(5)"
   ]
  },
  {
   "cell_type": "markdown",
   "metadata": {},
   "source": [
    "### Q9 : Write a program that takes an integer n as argument and return the n-th Fibonacci term. If n is negative then the function should return nothing.\n",
    "\n",
    "<img src=\"https://encrypted-tbn0.gstatic.com/images?q=tbn:ANd9GcQfnr6TyHDANUtvawV3YcO8bkvCiI0ggEJAPQ&usqp=CAU\">\n",
    "\n",
    "<img src=\"data:image/png;base64,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\">"
   ]
  },
  {
   "cell_type": "code",
   "execution_count": 13,
   "metadata": {},
   "outputs": [
    {
     "name": "stdout",
     "output_type": "stream",
     "text": [
      "Enter an integer number: 10\n"
     ]
    },
    {
     "data": {
      "text/plain": [
       "55"
      ]
     },
     "execution_count": 13,
     "metadata": {},
     "output_type": "execute_result"
    }
   ],
   "source": [
    "### START CODE HERE ###\n",
    "\n",
    "number = int(input(\"Enter an integer number: \"))\n",
    "\n",
    "def fib(n):\n",
    "    first, second = 0, 1\n",
    "    if n == 0:\n",
    "        return 0\n",
    "    for i in range(n-1):\n",
    "        first, second = second, first + second\n",
    "    return second\n",
    "\n",
    "fib(number)"
   ]
  },
  {
   "cell_type": "code",
   "execution_count": 6,
   "metadata": {},
   "outputs": [],
   "source": [
    "# Using recursive function\n",
    "\n",
    "def fibonacci(n):\n",
    "    if n < 0:\n",
    "        return None\n",
    "    elif n == 0:\n",
    "        return 0\n",
    "    elif n == 1:\n",
    "        return 1\n",
    "    else:\n",
    "        return fibonacci(n-1)+ fibonacci(n-2)"
   ]
  },
  {
   "cell_type": "code",
   "execution_count": 8,
   "metadata": {},
   "outputs": [
    {
     "data": {
      "text/plain": [
       "55"
      ]
     },
     "execution_count": 8,
     "metadata": {},
     "output_type": "execute_result"
    }
   ],
   "source": [
    "fibonacci(10)"
   ]
  },
  {
   "cell_type": "code",
   "execution_count": 12,
   "metadata": {},
   "outputs": [
    {
     "name": "stdout",
     "output_type": "stream",
     "text": [
      "Enter an integer number: 10\n",
      "55\n"
     ]
    }
   ],
   "source": [
    "# using while loop\n",
    "\n",
    "n = int(input(\"Enter an integer number: \"))\n",
    "\n",
    "a, b = 0, 1\n",
    "\n",
    "sum = 0\n",
    "count = 1\n",
    "\n",
    "while(count < n):\n",
    "    a, b = b, a + b\n",
    "    count += 1\n",
    "    \n",
    "print(b)"
   ]
  },
  {
   "cell_type": "code",
   "execution_count": null,
   "metadata": {},
   "outputs": [],
   "source": []
  }
 ],
 "metadata": {
  "kernelspec": {
   "display_name": "Python 3",
   "language": "python",
   "name": "python3"
  },
  "language_info": {
   "codemirror_mode": {
    "name": "ipython",
    "version": 3
   },
   "file_extension": ".py",
   "mimetype": "text/x-python",
   "name": "python",
   "nbconvert_exporter": "python",
   "pygments_lexer": "ipython3",
   "version": "3.8.5"
  }
 },
 "nbformat": 4,
 "nbformat_minor": 4
}
