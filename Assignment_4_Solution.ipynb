{
 "cells": [
  {
   "cell_type": "markdown",
   "metadata": {},
   "source": [
    "### Q1 : Write a while loop to add all the numbers from 0 to 100."
   ]
  },
  {
   "cell_type": "code",
   "execution_count": null,
   "metadata": {},
   "outputs": [],
   "source": [
    "##### START CODE HERE ### \n",
    "\n",
    "counter = 0\n",
    "S = 0\n",
    "while counter <= 100:\n",
    "    S += counter   \n",
    "    counter += 1\n",
    "    \n",
    "print(S)"
   ]
  },
  {
   "cell_type": "markdown",
   "metadata": {},
   "source": [
    "### Q2 : Write a program using a while loop that prompts the user for a hobby 3 times, then appends each one to a list and finally return the list.\n"
   ]
  },
  {
   "cell_type": "code",
   "execution_count": null,
   "metadata": {},
   "outputs": [],
   "source": [
    "### START CODE HERE ### \n",
    "\n",
    "hobbies = []\n",
    "count = 0\n",
    "while count < 3:\n",
    "    hob=input(\"Enter hobby: \")\n",
    "    hobbies.append(hob)\n",
    "    count += 1\n",
    "    \n",
    "print(hobbies)"
   ]
  },
  {
   "cell_type": "markdown",
   "metadata": {},
   "source": [
    "### Q3 : Write a program using while loop to iterate through the list and if there is a 100, print it with its index number. i.e.: \"There is a 100 at index no: x\" and terminate the loop. \n",
    "\n",
    "**Hint:**  Do not forget to provide some response if 100 is not found."
   ]
  },
  {
   "cell_type": "code",
   "execution_count": null,
   "metadata": {},
   "outputs": [],
   "source": [
    "num_list=[10, 99, 98, 85, 45, 59, 65, 66, 76, 12, 35, 13, 80, 95]\n",
    "\n",
    "### START CODE HERE ### \n",
    "i = 0\n",
    "while i < len(num_list):\n",
    "    if num_list[i] == 100:\n",
    "        print(\"There is a 100 at index no: \" + str(i))\n",
    "        break\n",
    "    i = i+1\n",
    "else:\n",
    "    print(\"100 is not found in the list.\")"
   ]
  },
  {
   "cell_type": "markdown",
   "metadata": {},
   "source": [
    "### Q4 : Write a function which appends all the elements in a list to a new list unless the element is an empty string: `\"\"`. \n",
    "\n",
    "**Input**: `my_list = [\"Joe\", \"Sarah\", \"Mike\", \"Jess\", \"\", \"Matt\", \"\", \"Greg\"]`\n",
    "\n",
    "**Output:** `[\"Joe\", \"Sarah\", \"Mike\", \"Jess\", \"Matt\", \"Greg\"]`\n"
   ]
  },
  {
   "cell_type": "code",
   "execution_count": null,
   "metadata": {},
   "outputs": [],
   "source": [
    "names = [\"Joe\", \"Sarah\", \"Mike\", \"Jess\", \"\", \"Matt\", \"\", \"Greg\"]\n",
    "### START CODE HERE ### \n",
    "\n",
    "def get_names(l):\n",
    "    i = 0\n",
    "    name_list = []\n",
    "    while i < len(l):\n",
    "        if l[i] != \"\":\n",
    "            name_list.append(l[i])\n",
    "        i = i+1\n",
    "    return name_list\n",
    "\n",
    "get_names(names)"
   ]
  },
  {
   "cell_type": "markdown",
   "metadata": {},
   "source": [
    "### Q5 : For the list in Q5,  write a program that stops appending items to the new list as soon as it encounters an empty string."
   ]
  },
  {
   "cell_type": "code",
   "execution_count": null,
   "metadata": {},
   "outputs": [],
   "source": [
    "names = [\"Joe\", \"Sarah\", \"Mike\", \"Jess\", \"\", \"Matt\", \"\", \"Greg\"]\n",
    "### START CODE HERE ### \n",
    "\n",
    "def get_names(l):\n",
    "    i = 0\n",
    "    name_list = []\n",
    "    while i < len(l):\n",
    "        if l[i] != \"\":\n",
    "            name_list.append(l[i])\n",
    "        else: break\n",
    "        i = i+1\n",
    "    return name_list\n",
    "\n",
    "get_names(names)"
   ]
  },
  {
   "cell_type": "markdown",
   "metadata": {},
   "source": [
    "### Q6 : Write a program that prompts the user to enter numbers, one per line, ending with a line containing only 0, and keep a running sum of the numbers and print out the sum after all the numbers are entered.\n",
    "\n",
    "**Hint:**  Do not create a list! Each time you read in a number, you can immediately use it for your sum, and then be done with the number just entered."
   ]
  },
  {
   "cell_type": "code",
   "execution_count": null,
   "metadata": {
    "scrolled": true
   },
   "outputs": [],
   "source": [
    "### START CODE HERE ### \n",
    "\n",
    "sum = 0\n",
    "while(True):\n",
    "    n = float(input('Please enter a number: '))\n",
    "    if n == 0:\n",
    "        break\n",
    "    sum += n\n",
    "print(f\"Sum = {sum}\")"
   ]
  },
  {
   "cell_type": "markdown",
   "metadata": {},
   "source": [
    "### Q7 : Write an interactive program that takes integer inputs from user until he/she presses q ( Ask to press q to quit after every integer input ). Only print out the average after all the numbers are entered ."
   ]
  },
  {
   "cell_type": "code",
   "execution_count": null,
   "metadata": {},
   "outputs": [],
   "source": [
    "### START CODE HERE ### \n",
    "\n",
    "sum = 0\n",
    "count = 0\n",
    "while(True):\n",
    "    n = input('Please enter a number: ')\n",
    "    if n == 'q':\n",
    "        break\n",
    "    print(\"Press q to quit if you're done.\")\n",
    "    sum += float(n)\n",
    "    count += 1\n",
    "    \n",
    "print(f\"Average = {sum/count}\")"
   ]
  },
  {
   "cell_type": "markdown",
   "metadata": {},
   "source": [
    "### Q8 : Write a program, which asks for the initial balance K0 and for the interest rate. The program shall calculate the new capital K1 after one year including the interest. Extend the program with a while-loop, so that the capital Kn after a period of n years can be calculated."
   ]
  },
  {
   "cell_type": "code",
   "execution_count": null,
   "metadata": {},
   "outputs": [],
   "source": [
    "K = float(input(\"Starting capital? \"))\n",
    "r = float(input(\"Interest rate? \"))\n",
    "n = int(input(\"Number of years? \"))\n",
    "### START CODE HERE ### \n",
    "\n",
    "i = 0\n",
    "while i < n:\n",
    "    K *=  1 +  r / 100.0 # k1 = k0(1 + p/100) \n",
    "    i += 1\n",
    "    print(i, K)\n",
    "print(f\"Capital after {n} years: {K}.\")"
   ]
  },
  {
   "cell_type": "markdown",
   "metadata": {},
   "source": [
    "### Q9 : Using while loop and conditional statement, write a program that takes a string as user input and returns a dictionary containing the all alphabetic characters of the string that occured more than once as keys and their count as values, sorted in decreasing order of their counts. If no character is repeated in the string, display       \n",
    "<font size=\"5\">`No character is repeated.`</font>\n",
    "\n",
    "**Hint:** Which data type contains unique element from an iterable? We can use the count() method to keep counts of the characters. Also, donot forget to convert all characters to lowercase at first.\n",
    "\n",
    "**Sample input1**: `Python`\n",
    "\n",
    "**Sample output1:** `No character is repeated.`\n",
    "\n",
    "**Sample input1**: `Peter Piper picked a peck of pickled peppers`\n",
    "\n",
    "**Sample output1:** `{'p': 9, 'e': 8, 'k': 3, 'r': 3, 'i': 3, 'c': 3, 'd': 2}`"
   ]
  },
  {
   "cell_type": "code",
   "execution_count": 7,
   "metadata": {},
   "outputs": [
    {
     "name": "stdout",
     "output_type": "stream",
     "text": [
      "Please provide your input:python python on\n",
      "{'n': 3, 'o': 3, 'h': 2, 'p': 2, 't': 2, 'y': 2}\n"
     ]
    }
   ],
   "source": [
    "### START CODE HERE ### \n",
    "input_str = input(\"Please provide your input:\")\n",
    "\n",
    "char_list = [i.lower() for i in list(input_str) if i.isalpha()]\n",
    "unique_chars = set(char_list)\n",
    "\n",
    "d = {}\n",
    "\n",
    "while unique_chars:\n",
    "    char = unique_chars.pop()\n",
    "    if char_list.count(char) > 1:\n",
    "        d[char] = char_list.count(char)\n",
    "        \n",
    "if d:\n",
    "    print(dict(sorted(d.items(), key = lambda x: (-x[1], x[0]))))\n",
    "else:\n",
    "    print(\"No character is repeated.\")"
   ]
  }
 ],
 "metadata": {
  "kernelspec": {
   "display_name": "Python 3",
   "language": "python",
   "name": "python3"
  },
  "language_info": {
   "codemirror_mode": {
    "name": "ipython",
    "version": 3
   },
   "file_extension": ".py",
   "mimetype": "text/x-python",
   "name": "python",
   "nbconvert_exporter": "python",
   "pygments_lexer": "ipython3",
   "version": "3.8.5"
  }
 },
 "nbformat": 4,
 "nbformat_minor": 4
}
